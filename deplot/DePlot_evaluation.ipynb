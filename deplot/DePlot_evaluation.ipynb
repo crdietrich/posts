{
 "cells": [
  {
   "cell_type": "markdown",
   "id": "643de887-b47a-410c-b37e-eec19329c631",
   "metadata": {},
   "source": [
    "# Hands on DePlot\n",
    "The DePlot authors describe their model as a 'One-shot plot-to-table translation' conversion module. This notebook explores DePlot's image to structured text performance.\n",
    "\n",
    "-Colin\n",
    "\n",
    "## Original Work  \n",
    "Source Paper: https://arxiv.org/abs/2212.10505  \n",
    "Citation:\n",
    "```\n",
    "@misc{liu2022deplot,\n",
    "      title={DePlot: One-shot visual language reasoning by plot-to-table translation},\n",
    "      author={Liu, Fangyu and Eisenschlos, Julian Martin and Piccinno, Francesco and Krichene, Syrine and Pang, Chenxi and Lee, Kenton and Joshi, Mandar and Chen, Wenhu and Collier, Nigel and Altun, Yasemin},\n",
    "      year={2022},\n",
    "      eprint={2212.10505},\n",
    "      archivePrefix={arXiv},\n",
    "      primaryClass={cs.CL}\n",
    "}\n",
    "```\n",
    "\n",
    "### Limitations  \n",
    "* It is unknown how well DePlot can work for out-of-domain plot-to-text conversion. The authors suggest 'a wider range of web charts can be used to gain a deeper understanding into DePlot's robustness...'\n",
    "* DePlot does not work for graphics and images that do not have clear textual representations. For example, a diagram of a car part does not immediately have a tabular representation.\n",
    "* Orientation and color of visual objects are ignored.\n",
    "\n",
    "### Ethics  \n",
    "The authors suggest any deployment have a filtering stage after generation. Data for training was generated or available via permissive licenses.  \n",
    "\n",
    "## Hugging Face Transformers Model  \n",
    "This notebook uses the DePlot model as added to the Hugging Face ecosystem by [Younes Belkada](https://huggingface.co/ybelkada). It is available with examples at: \n",
    "https://github.com/huggingface/transformers  \n",
    "\n",
    "## Results  \n",
    "All execution times were measured using a Google Cloud Platform n1-standard-4 (4 vCPUs, 15 GB RAM) Vertex AI Notebook."
   ]
  },
  {
   "cell_type": "code",
   "execution_count": 1,
   "id": "b2a3aecd-f5a6-41a7-8a87-fb6233ace6fc",
   "metadata": {
    "id": "MegXl0E3QUdj"
   },
   "outputs": [],
   "source": [
    "import re\n",
    "import time\n",
    "import multiprocessing\n",
    "import pytesseract\n",
    "\n",
    "import numpy as np\n",
    "import pandas as pd \n",
    "import matplotlib.pyplot as plt\n",
    "import seaborn as sns\n",
    "\n",
    "from textblob import Word\n",
    "from multiprocessing.pool import ThreadPool\n",
    "from io import StringIO\n",
    "from PIL import Image, ImageEnhance\n",
    "from IPython.display import display\n",
    "from google.cloud import aiplatform\n",
    "from vertexai.preview.language_models import TextGenerationModel\n",
    "from transformers import Pix2StructProcessor, Pix2StructForConditionalGeneration"
   ]
  },
  {
   "cell_type": "markdown",
   "id": "d305b2ae-7702-4ba5-b4e4-6c63d018d65f",
   "metadata": {},
   "source": [
    "Shared variables created in setup.ipynb"
   ]
  },
  {
   "cell_type": "code",
   "execution_count": 2,
   "id": "16fdb0bd-aeee-4312-8290-51fcc4b91adb",
   "metadata": {},
   "outputs": [],
   "source": [
    "%store -r project_id\n",
    "%store -r location_id"
   ]
  },
  {
   "cell_type": "markdown",
   "id": "34438492-9b76-4881-a8e0-10da1e48a159",
   "metadata": {},
   "source": [
    "Initialize AI Platform and Hugging Face model"
   ]
  },
  {
   "cell_type": "code",
   "execution_count": 3,
   "id": "54c51de6-6fd2-44b8-86a7-3bdfeee0d37d",
   "metadata": {},
   "outputs": [],
   "source": [
    "aiplatform.init(project=project_id, \n",
    "                location=location_id)"
   ]
  },
  {
   "cell_type": "code",
   "execution_count": 4,
   "id": "2c3fa50a-bc41-406a-a646-bf413d997146",
   "metadata": {},
   "outputs": [],
   "source": [
    "processor = Pix2StructProcessor.from_pretrained('google/deplot')\n",
    "model = Pix2StructForConditionalGeneration.from_pretrained('google/deplot')"
   ]
  },
  {
   "cell_type": "markdown",
   "id": "967fae43-a062-47f6-8ed2-3b7dbcdd049e",
   "metadata": {},
   "source": [
    "## I. Plot with Value Labels  \n",
    "For a first example, let's try a plot with values labeling each plot element.  \n",
    "\n",
    "The image:  \n",
    "![](./data/5090.png)  "
   ]
  },
  {
   "cell_type": "markdown",
   "id": "6191de16-bb7b-434d-8d34-cd72bf2e4fb5",
   "metadata": {},
   "source": [
    "First prediction:"
   ]
  },
  {
   "cell_type": "code",
   "execution_count": 5,
   "id": "9ee9a9ed-2a82-4fbe-acb4-4b18f8f8aeed",
   "metadata": {},
   "outputs": [],
   "source": [
    "input_image = Image.open(\"./data/5090.png\")"
   ]
  },
  {
   "cell_type": "code",
   "execution_count": 6,
   "id": "a4a2ce1c-1ef6-4b8f-8887-ab2abafbc496",
   "metadata": {},
   "outputs": [],
   "source": [
    "deplot_prompt = \"Generate underlying data table of the figure below\"\n",
    "\n",
    "inputs = processor(images=input_image, \n",
    "                   text=deplot_prompt, \n",
    "                   return_tensors=\"pt\")\n",
    "predictions = model.generate(**inputs, max_new_tokens=512)"
   ]
  },
  {
   "cell_type": "markdown",
   "id": "a93db4f8-5080-4589-8429-39cad7181018",
   "metadata": {},
   "source": [
    "The model will output an undecoded tensor of results representing the structured text format. We'll need to clean it to work with it further."
   ]
  },
  {
   "cell_type": "code",
   "execution_count": 7,
   "id": "707859d6-e611-45e5-b561-4648492849a8",
   "metadata": {},
   "outputs": [
    {
     "data": {
      "text/plain": [
       "tensor([[    0, 43445,   789, 32349,  2649,   789,  1879,   284,   287,  2649,\n",
       "           273,    27,   595,  3709, 32616,   789,   273,   285,   292,   274,\n",
       "           278,   789,   273,   290,   290,   274,   278,   273,    27,  1389,\n",
       "           789, 12701,   789,   273,   285,   290,   274,   278,   273,    27,\n",
       "          2165,   789,   273,   289,   290,   274,   278,   789,   273,   289,\n",
       "           292,   274,   278,   273,    27,  7217,   789,   273,   285,   295,\n",
       "           274,   278,   789,   273,   290,   285,   274,   278,   273,    27,\n",
       "         10883,   789,   273,   289,   279,   274,   278,   789,   273,   290,\n",
       "           289,   274,   278,   273,    27,  1724,   789,   273,   285,   294,\n",
       "           274,   278,   789,   273,   290,   290,   274,   278,   273,    27,\n",
       "           854, 42872,  2340,   273,  9345,   287,   789,   273,   289,   278,\n",
       "           274,   278,   789,   273,   290,   294,   274,   278,   273,    27,\n",
       "          3682,   789,   273,   279,   292,   274,   278,   789,   273,   293,\n",
       "           285,   274,   278,   273,    27,  3748,   789,   273,   279,   279,\n",
       "           274,   278,   789,   273,   295,   289,   274,   278,     1]])"
      ]
     },
     "execution_count": 7,
     "metadata": {},
     "output_type": "execute_result"
    }
   ],
   "source": [
    "predictions"
   ]
  },
  {
   "cell_type": "code",
   "execution_count": 8,
   "id": "95b38c59-2606-4445-9ca4-1de141559455",
   "metadata": {},
   "outputs": [],
   "source": [
    "output = processor.decode(predictions[0], skip_special_tokens=True)"
   ]
  },
  {
   "cell_type": "code",
   "execution_count": 9,
   "id": "d35cdab9-ba4e-472c-a739-5f6356fc5cd6",
   "metadata": {},
   "outputs": [
    {
     "data": {
      "text/plain": [
       "\"Entity | Individuals responsibility | Government's responsibility <0x0A> MEDIAN | 39.0 | 55.0 <0x0A> Germany | nan | 35.0 <0x0A> UK | 45.0 | 49.0 <0x0A> Sweden | 37.0 | 53.0 <0x0A> Denmark | 42.0 | 54.0 <0x0A> France | 38.0 | 55.0 <0x0A> Netherla nns | 40.0 | 58.0 <0x0A> Spain | 29.0 | 63.0 <0x0A> Italy | 22.0 | 74.0\""
      ]
     },
     "execution_count": 9,
     "metadata": {},
     "output_type": "execute_result"
    }
   ],
   "source": [
    "output"
   ]
  },
  {
   "cell_type": "code",
   "execution_count": 10,
   "id": "9209115c-b0c3-43e4-990e-989b42fceee6",
   "metadata": {},
   "outputs": [
    {
     "name": "stdout",
     "output_type": "stream",
     "text": [
      "Entity | Individuals responsibility | Government's responsibility \n",
      " MEDIAN | 39.0 | 55.0 \n",
      " Germany | nan | 35.0 \n",
      " UK | 45.0 | 49.0 \n",
      " Sweden | 37.0 | 53.0 \n",
      " Denmark | 42.0 | 54.0 \n",
      " France | 38.0 | 55.0 \n",
      " Netherla nns | 40.0 | 58.0 \n",
      " Spain | 29.0 | 63.0 \n",
      " Italy | 22.0 | 74.0\n"
     ]
    }
   ],
   "source": [
    "proto_table = output.replace('<0x0A>', '\\n')\n",
    "proto_table = re.sub(r'<.*?>', '', proto_table)\n",
    "print(proto_table)"
   ]
  },
  {
   "cell_type": "markdown",
   "id": "6eaa3c15-91da-45b1-995c-bb72e1cb5d0e",
   "metadata": {},
   "source": [
    "Now let's convert the `|` delimited table structure into a Pandas DataFrame. We'll clean it a bit more too."
   ]
  },
  {
   "cell_type": "code",
   "execution_count": 11,
   "id": "b9ea4221-553a-4df2-a147-44096230d76d",
   "metadata": {},
   "outputs": [],
   "source": [
    "df = pd.read_table(StringIO(proto_table), sep=\"|\", header=0, skipinitialspace=True)"
   ]
  },
  {
   "cell_type": "markdown",
   "id": "abc8821a-d33f-415a-927b-eda5f301d547",
   "metadata": {},
   "source": [
    "The column titles have trailing whitespace, which can cause issues with fancy indexing in Pandas."
   ]
  },
  {
   "cell_type": "code",
   "execution_count": 12,
   "id": "39709eda-dbef-4010-9dc3-a1755136c579",
   "metadata": {},
   "outputs": [],
   "source": [
    "df.columns = df.columns.str.strip()"
   ]
  },
  {
   "cell_type": "markdown",
   "id": "3b37a8d5-5cdb-4c81-b225-e8dd13526aca",
   "metadata": {},
   "source": [
    "The first column of values is technically mixed types (String and Float) due to the 'nan' value. In this case we can cast the type to `float` and Pandas will infer that 'nan' should be a null value."
   ]
  },
  {
   "cell_type": "code",
   "execution_count": 13,
   "id": "cc2f92d6-1511-43da-9434-1f11daf24b37",
   "metadata": {},
   "outputs": [
    {
     "data": {
      "text/plain": [
       "Entity                          object\n",
       "Individuals responsibility     float64\n",
       "Government's responsibility    float64\n",
       "dtype: object"
      ]
     },
     "execution_count": 13,
     "metadata": {},
     "output_type": "execute_result"
    }
   ],
   "source": [
    "for c in df.columns[1:]:\n",
    "    df[c] = df[c].astype(float)\n",
    "df.dtypes"
   ]
  },
  {
   "cell_type": "code",
   "execution_count": 14,
   "id": "e59bcc40-6ac3-42e2-9f0b-1d90fe72d015",
   "metadata": {},
   "outputs": [
    {
     "data": {
      "text/html": [
       "<div>\n",
       "<style scoped>\n",
       "    .dataframe tbody tr th:only-of-type {\n",
       "        vertical-align: middle;\n",
       "    }\n",
       "\n",
       "    .dataframe tbody tr th {\n",
       "        vertical-align: top;\n",
       "    }\n",
       "\n",
       "    .dataframe thead th {\n",
       "        text-align: right;\n",
       "    }\n",
       "</style>\n",
       "<table border=\"1\" class=\"dataframe\">\n",
       "  <thead>\n",
       "    <tr style=\"text-align: right;\">\n",
       "      <th></th>\n",
       "      <th>Entity</th>\n",
       "      <th>Individuals responsibility</th>\n",
       "      <th>Government's responsibility</th>\n",
       "    </tr>\n",
       "  </thead>\n",
       "  <tbody>\n",
       "    <tr>\n",
       "      <th>0</th>\n",
       "      <td>MEDIAN</td>\n",
       "      <td>39.0</td>\n",
       "      <td>55.0</td>\n",
       "    </tr>\n",
       "    <tr>\n",
       "      <th>1</th>\n",
       "      <td>Germany</td>\n",
       "      <td>NaN</td>\n",
       "      <td>35.0</td>\n",
       "    </tr>\n",
       "    <tr>\n",
       "      <th>2</th>\n",
       "      <td>UK</td>\n",
       "      <td>45.0</td>\n",
       "      <td>49.0</td>\n",
       "    </tr>\n",
       "    <tr>\n",
       "      <th>3</th>\n",
       "      <td>Sweden</td>\n",
       "      <td>37.0</td>\n",
       "      <td>53.0</td>\n",
       "    </tr>\n",
       "    <tr>\n",
       "      <th>4</th>\n",
       "      <td>Denmark</td>\n",
       "      <td>42.0</td>\n",
       "      <td>54.0</td>\n",
       "    </tr>\n",
       "    <tr>\n",
       "      <th>5</th>\n",
       "      <td>France</td>\n",
       "      <td>38.0</td>\n",
       "      <td>55.0</td>\n",
       "    </tr>\n",
       "    <tr>\n",
       "      <th>6</th>\n",
       "      <td>Netherla nns</td>\n",
       "      <td>40.0</td>\n",
       "      <td>58.0</td>\n",
       "    </tr>\n",
       "    <tr>\n",
       "      <th>7</th>\n",
       "      <td>Spain</td>\n",
       "      <td>29.0</td>\n",
       "      <td>63.0</td>\n",
       "    </tr>\n",
       "    <tr>\n",
       "      <th>8</th>\n",
       "      <td>Italy</td>\n",
       "      <td>22.0</td>\n",
       "      <td>74.0</td>\n",
       "    </tr>\n",
       "  </tbody>\n",
       "</table>\n",
       "</div>"
      ],
      "text/plain": [
       "          Entity  Individuals responsibility  Government's responsibility\n",
       "0        MEDIAN                         39.0                         55.0\n",
       "1       Germany                          NaN                         35.0\n",
       "2            UK                         45.0                         49.0\n",
       "3        Sweden                         37.0                         53.0\n",
       "4       Denmark                         42.0                         54.0\n",
       "5        France                         38.0                         55.0\n",
       "6  Netherla nns                         40.0                         58.0\n",
       "7         Spain                         29.0                         63.0\n",
       "8         Italy                         22.0                         74.0"
      ]
     },
     "execution_count": 14,
     "metadata": {},
     "output_type": "execute_result"
    }
   ],
   "source": [
    "df"
   ]
  },
  {
   "cell_type": "markdown",
   "id": "d00fe1da-e99b-4b7f-8070-da08593ee75f",
   "metadata": {},
   "source": [
    "By visual inspection, we can see a couple of obvious errors in the model generated data:  \n",
    "1. The column `Individuals responsibility` should have an appostrophy (`'`) and read as `Individual's responsibility`. As this is a column title and key to user understanding of the data, it's a problematic error.\n",
    "2. The value for the `Germany` row, `Individuals responsibility` column is `NaN` when in fact it should be 57. This kind of plot, called a mirrored bar chart, is labeled with text values that are not vertically aligned. The number 57 is the most out of alignment, which might have caused the model to ignore it.\n",
    "3. The row title `Netherla nns` should be `Netherlands`. Inspecting the source image, there is a slight gap between the `a` and `n` in the word. This variablity might have again thrown the model off.  "
   ]
  },
  {
   "cell_type": "markdown",
   "id": "79b9e792-c29c-4380-872c-5e8585c9b14e",
   "metadata": {},
   "source": [
    "### Output Plot  \n",
    "Let's plot the output in a different format, just to complete a loopback from visual meaning to structured text and back to visual meaning."
   ]
  },
  {
   "cell_type": "code",
   "execution_count": 15,
   "id": "92e7ad7e-f24a-4b27-8639-f3d9eb800be1",
   "metadata": {},
   "outputs": [
    {
     "data": {
      "image/png": "[encoded data removed]",
      "text/plain": [
       "<Figure size 640x480 with 1 Axes>"
      ]
     },
     "metadata": {},
     "output_type": "display_data"
    }
   ],
   "source": [
    "df_plot = df.copy()\n",
    "df_plot.index = df_plot['Entity']\n",
    "df_plot.plot.barh(xlabel='% Respondants').\\\n",
    "                  legend(loc='lower right', bbox_to_anchor=(0.75, 1));"
   ]
  },
  {
   "cell_type": "markdown",
   "id": "9adc7c30-edde-4053-9891-b787c2e622b6",
   "metadata": {},
   "source": [
    "## II. Improve Plot Performance  \n",
    "Due to the errors in the initial prediction, let's alter the image before prediction and see if the results are any better. Since we're repeating work, let's define some reusable methods.  "
   ]
  },
  {
   "cell_type": "code",
   "execution_count": 16,
   "id": "d31f2b27-237e-4601-8acb-23ac9d3e37d6",
   "metadata": {},
   "outputs": [],
   "source": [
    "def plot_d_structured(pil_image):\n",
    "    \"\"\"Create structured data from an input image.\n",
    "\n",
    "    Parameters\n",
    "    ----------\n",
    "    pil_image : PIL.PngImagePlugin.PngImageFile, loaded image\n",
    "        for structured text extraction\n",
    "\n",
    "    Returns\n",
    "    -------\n",
    "    proto_table : str, structured DePlot output with some cleaning\n",
    "    \"\"\"\n",
    "    t0 = pd.Timestamp('now')\n",
    "    deplot_prompt = \"Generate underlying data table of the figure below\"\n",
    "    inputs = processor(images=pil_image, \n",
    "                       text=deplot_prompt, \n",
    "                       return_tensors=\"pt\")\n",
    "    predictions = model.generate(**inputs, max_new_tokens=512)\n",
    "    output = processor.decode(predictions[0], skip_special_tokens=True)\n",
    "    proto_table = output.replace('<0x0A>', '\\n')\n",
    "    proto_table = re.sub(r'<.*?>', '', proto_table)\n",
    "    t1 = pd.Timestamp('now')\n",
    "    dt = t1-t0\n",
    "    return dt, proto_table"
   ]
  },
  {
   "cell_type": "code",
   "execution_count": 17,
   "id": "9cd5fccb-e9fc-40fa-bc0e-839b3465fc78",
   "metadata": {},
   "outputs": [],
   "source": [
    "def plot_2_df(pil_image):\n",
    "    \"\"\"Create a Pandas DataFrame from an input image.\n",
    "\n",
    "    Parameters\n",
    "    ----------\n",
    "    pil_image : PIL.PngImagePlugin.PngImageFile, loaded image\n",
    "        for structured text extraction\n",
    "\n",
    "    Returns\n",
    "    -------\n",
    "    dt : pandas._libs.tslibs.timedeltas.Timedelta, time elapsed\n",
    "    _df : Pandas DataFrame, extracted data from plot\n",
    "    \"\"\"\n",
    "    t0 = pd.Timestamp('now')\n",
    "    deplot_prompt = \"Generate underlying data table of the figure below\"\n",
    "    inputs = processor(images=pil_image, \n",
    "                       text=deplot_prompt, \n",
    "                       return_tensors=\"pt\")\n",
    "    predictions = model.generate(**inputs, max_new_tokens=512)\n",
    "    output = processor.decode(predictions[0], skip_special_tokens=True)\n",
    "    proto_table = output.replace('<0x0A>', '\\n')\n",
    "    proto_table = re.sub(r'<.*?>', '', proto_table)\n",
    "    #_df = pd.read_table(StringIO(proto_table), \n",
    "    #                    sep=\"|\", \n",
    "    #                    header=0, \n",
    "    #                    skipinitialspace=True)\n",
    "    _df = pd.read_table(StringIO(proto_table), sep=\"|\")\n",
    "    _df.columns = _df.columns.str.strip()\n",
    "    t1 = pd.Timestamp('now')\n",
    "    dt = t1-t0\n",
    "    return dt, _df"
   ]
  },
  {
   "cell_type": "markdown",
   "id": "a91c2357-3145-479a-8f54-57bdbb3b85ac",
   "metadata": {},
   "source": [
    "First, let's rerun the original image:"
   ]
  },
  {
   "cell_type": "code",
   "execution_count": 18,
   "id": "c5ca95b4-145d-4287-b209-aea24bc97528",
   "metadata": {},
   "outputs": [
    {
     "data": {
      "text/plain": [
       "(Timedelta('0 days 00:01:48.051420'), (311, 478))"
      ]
     },
     "execution_count": 18,
     "metadata": {},
     "output_type": "execute_result"
    }
   ],
   "source": [
    "dt, df2 = plot_2_df(input_image)\n",
    "dt, input_image.size"
   ]
  },
  {
   "cell_type": "code",
   "execution_count": 19,
   "id": "3d1acdd6-2932-45b8-bf6f-2fa1d5e57b6c",
   "metadata": {},
   "outputs": [
    {
     "data": {
      "text/html": [
       "<div>\n",
       "<style scoped>\n",
       "    .dataframe tbody tr th:only-of-type {\n",
       "        vertical-align: middle;\n",
       "    }\n",
       "\n",
       "    .dataframe tbody tr th {\n",
       "        vertical-align: top;\n",
       "    }\n",
       "\n",
       "    .dataframe thead th {\n",
       "        text-align: right;\n",
       "    }\n",
       "</style>\n",
       "<table border=\"1\" class=\"dataframe\">\n",
       "  <thead>\n",
       "    <tr style=\"text-align: right;\">\n",
       "      <th></th>\n",
       "      <th>Entity</th>\n",
       "      <th>Individuals responsibility</th>\n",
       "      <th>Government's responsibility</th>\n",
       "    </tr>\n",
       "  </thead>\n",
       "  <tbody>\n",
       "    <tr>\n",
       "      <th>0</th>\n",
       "      <td>MEDIAN</td>\n",
       "      <td>39.0</td>\n",
       "      <td>55.0</td>\n",
       "    </tr>\n",
       "    <tr>\n",
       "      <th>1</th>\n",
       "      <td>Germany</td>\n",
       "      <td>nan</td>\n",
       "      <td>35.0</td>\n",
       "    </tr>\n",
       "    <tr>\n",
       "      <th>2</th>\n",
       "      <td>UK</td>\n",
       "      <td>45.0</td>\n",
       "      <td>49.0</td>\n",
       "    </tr>\n",
       "    <tr>\n",
       "      <th>3</th>\n",
       "      <td>Sweden</td>\n",
       "      <td>37.0</td>\n",
       "      <td>53.0</td>\n",
       "    </tr>\n",
       "    <tr>\n",
       "      <th>4</th>\n",
       "      <td>Denmark</td>\n",
       "      <td>42.0</td>\n",
       "      <td>54.0</td>\n",
       "    </tr>\n",
       "    <tr>\n",
       "      <th>5</th>\n",
       "      <td>France</td>\n",
       "      <td>38.0</td>\n",
       "      <td>55.0</td>\n",
       "    </tr>\n",
       "    <tr>\n",
       "      <th>6</th>\n",
       "      <td>Netherla nns</td>\n",
       "      <td>40.0</td>\n",
       "      <td>58.0</td>\n",
       "    </tr>\n",
       "    <tr>\n",
       "      <th>7</th>\n",
       "      <td>Spain</td>\n",
       "      <td>29.0</td>\n",
       "      <td>63.0</td>\n",
       "    </tr>\n",
       "    <tr>\n",
       "      <th>8</th>\n",
       "      <td>Italy</td>\n",
       "      <td>22.0</td>\n",
       "      <td>74.0</td>\n",
       "    </tr>\n",
       "  </tbody>\n",
       "</table>\n",
       "</div>"
      ],
      "text/plain": [
       "           Entity Individuals responsibility  Government's responsibility\n",
       "0         MEDIAN                       39.0                          55.0\n",
       "1        Germany                        nan                          35.0\n",
       "2             UK                       45.0                          49.0\n",
       "3         Sweden                       37.0                          53.0\n",
       "4        Denmark                       42.0                          54.0\n",
       "5         France                       38.0                          55.0\n",
       "6   Netherla nns                       40.0                          58.0\n",
       "7          Spain                       29.0                          63.0\n",
       "8          Italy                       22.0                          74.0"
      ]
     },
     "execution_count": 19,
     "metadata": {},
     "output_type": "execute_result"
    }
   ],
   "source": [
    "df2"
   ]
  },
  {
   "cell_type": "code",
   "execution_count": 20,
   "id": "a3ed694b-4487-4c68-8494-859d76bcb614",
   "metadata": {},
   "outputs": [],
   "source": [
    "input_image_bigger = input_image.resize(np.array(input_image.size)*3)\n",
    "input_image_bigger_sharp = ImageEnhance.Sharpness(input_image_bigger).enhance(1.2)"
   ]
  },
  {
   "cell_type": "code",
   "execution_count": 21,
   "id": "5ba13d13-53a4-4116-90fe-e90df1db16fb",
   "metadata": {},
   "outputs": [
    {
     "data": {
      "text/plain": [
       "(Timedelta('0 days 00:01:45.340896'), (933, 1434))"
      ]
     },
     "execution_count": 21,
     "metadata": {},
     "output_type": "execute_result"
    }
   ],
   "source": [
    "dt, df3 = plot_2_df(input_image_bigger)\n",
    "dt, input_image_bigger.size"
   ]
  },
  {
   "cell_type": "code",
   "execution_count": 22,
   "id": "e8e2482b-4950-4b37-b76d-2c2b1eaac158",
   "metadata": {},
   "outputs": [
    {
     "data": {
      "text/html": [
       "<div>\n",
       "<style scoped>\n",
       "    .dataframe tbody tr th:only-of-type {\n",
       "        vertical-align: middle;\n",
       "    }\n",
       "\n",
       "    .dataframe tbody tr th {\n",
       "        vertical-align: top;\n",
       "    }\n",
       "\n",
       "    .dataframe thead th {\n",
       "        text-align: right;\n",
       "    }\n",
       "</style>\n",
       "<table border=\"1\" class=\"dataframe\">\n",
       "  <thead>\n",
       "    <tr style=\"text-align: right;\">\n",
       "      <th></th>\n",
       "      <th>Entity</th>\n",
       "      <th>Individuals responsibility</th>\n",
       "      <th>Government's responsibility</th>\n",
       "    </tr>\n",
       "  </thead>\n",
       "  <tbody>\n",
       "    <tr>\n",
       "      <th>0</th>\n",
       "      <td>MEDIAN</td>\n",
       "      <td>39.0</td>\n",
       "      <td>55.0</td>\n",
       "    </tr>\n",
       "    <tr>\n",
       "      <th>1</th>\n",
       "      <td>Germany</td>\n",
       "      <td>nan</td>\n",
       "      <td>35.0</td>\n",
       "    </tr>\n",
       "    <tr>\n",
       "      <th>2</th>\n",
       "      <td>UK</td>\n",
       "      <td>45.0</td>\n",
       "      <td>49.0</td>\n",
       "    </tr>\n",
       "    <tr>\n",
       "      <th>3</th>\n",
       "      <td>Sweden</td>\n",
       "      <td>37.0</td>\n",
       "      <td>53.0</td>\n",
       "    </tr>\n",
       "    <tr>\n",
       "      <th>4</th>\n",
       "      <td>Denmark</td>\n",
       "      <td>42.0</td>\n",
       "      <td>54.0</td>\n",
       "    </tr>\n",
       "    <tr>\n",
       "      <th>5</th>\n",
       "      <td>France</td>\n",
       "      <td>38.0</td>\n",
       "      <td>55.0</td>\n",
       "    </tr>\n",
       "    <tr>\n",
       "      <th>6</th>\n",
       "      <td>Netherla nns</td>\n",
       "      <td>40.0</td>\n",
       "      <td>58.0</td>\n",
       "    </tr>\n",
       "    <tr>\n",
       "      <th>7</th>\n",
       "      <td>Spain</td>\n",
       "      <td>29.0</td>\n",
       "      <td>63.0</td>\n",
       "    </tr>\n",
       "    <tr>\n",
       "      <th>8</th>\n",
       "      <td>Italy</td>\n",
       "      <td>22.0</td>\n",
       "      <td>74.0</td>\n",
       "    </tr>\n",
       "  </tbody>\n",
       "</table>\n",
       "</div>"
      ],
      "text/plain": [
       "           Entity Individuals responsibility  Government's responsibility\n",
       "0         MEDIAN                       39.0                          55.0\n",
       "1        Germany                        nan                          35.0\n",
       "2             UK                       45.0                          49.0\n",
       "3         Sweden                       37.0                          53.0\n",
       "4        Denmark                       42.0                          54.0\n",
       "5         France                       38.0                          55.0\n",
       "6   Netherla nns                       40.0                          58.0\n",
       "7          Spain                       29.0                          63.0\n",
       "8          Italy                       22.0                          74.0"
      ]
     },
     "execution_count": 22,
     "metadata": {},
     "output_type": "execute_result"
    }
   ],
   "source": [
    "df3"
   ]
  },
  {
   "cell_type": "code",
   "execution_count": 23,
   "id": "4520d936-e820-4b98-af09-b2817b628a71",
   "metadata": {},
   "outputs": [
    {
     "data": {
      "text/plain": [
       "(Timedelta('0 days 00:01:45.994349'), (933, 1434))"
      ]
     },
     "execution_count": 23,
     "metadata": {},
     "output_type": "execute_result"
    }
   ],
   "source": [
    "dt, df4 = plot_2_df(input_image_bigger_sharp)\n",
    "dt, input_image_bigger_sharp.size"
   ]
  },
  {
   "cell_type": "code",
   "execution_count": 24,
   "id": "c1a65e7b-381a-4520-9bd2-b131c01bc4c8",
   "metadata": {},
   "outputs": [
    {
     "data": {
      "text/html": [
       "<div>\n",
       "<style scoped>\n",
       "    .dataframe tbody tr th:only-of-type {\n",
       "        vertical-align: middle;\n",
       "    }\n",
       "\n",
       "    .dataframe tbody tr th {\n",
       "        vertical-align: top;\n",
       "    }\n",
       "\n",
       "    .dataframe thead th {\n",
       "        text-align: right;\n",
       "    }\n",
       "</style>\n",
       "<table border=\"1\" class=\"dataframe\">\n",
       "  <thead>\n",
       "    <tr style=\"text-align: right;\">\n",
       "      <th></th>\n",
       "      <th>Entity</th>\n",
       "      <th>Individuals responsibility</th>\n",
       "      <th>Government's responsibility</th>\n",
       "    </tr>\n",
       "  </thead>\n",
       "  <tbody>\n",
       "    <tr>\n",
       "      <th>0</th>\n",
       "      <td>MEDIAN</td>\n",
       "      <td>39.0</td>\n",
       "      <td>55.0</td>\n",
       "    </tr>\n",
       "    <tr>\n",
       "      <th>1</th>\n",
       "      <td>Germany</td>\n",
       "      <td>nan</td>\n",
       "      <td>35.0</td>\n",
       "    </tr>\n",
       "    <tr>\n",
       "      <th>2</th>\n",
       "      <td>UK</td>\n",
       "      <td>45.0</td>\n",
       "      <td>49.0</td>\n",
       "    </tr>\n",
       "    <tr>\n",
       "      <th>3</th>\n",
       "      <td>Sweden</td>\n",
       "      <td>37.0</td>\n",
       "      <td>53.0</td>\n",
       "    </tr>\n",
       "    <tr>\n",
       "      <th>4</th>\n",
       "      <td>Denmark</td>\n",
       "      <td>42.0</td>\n",
       "      <td>54.0</td>\n",
       "    </tr>\n",
       "    <tr>\n",
       "      <th>5</th>\n",
       "      <td>France</td>\n",
       "      <td>38.0</td>\n",
       "      <td>55.0</td>\n",
       "    </tr>\n",
       "    <tr>\n",
       "      <th>6</th>\n",
       "      <td>Netherla nns</td>\n",
       "      <td>40.0</td>\n",
       "      <td>58.0</td>\n",
       "    </tr>\n",
       "    <tr>\n",
       "      <th>7</th>\n",
       "      <td>Spain</td>\n",
       "      <td>29.0</td>\n",
       "      <td>63.0</td>\n",
       "    </tr>\n",
       "    <tr>\n",
       "      <th>8</th>\n",
       "      <td>Italy</td>\n",
       "      <td>22.0</td>\n",
       "      <td>74.0</td>\n",
       "    </tr>\n",
       "  </tbody>\n",
       "</table>\n",
       "</div>"
      ],
      "text/plain": [
       "           Entity Individuals responsibility  Government's responsibility\n",
       "0         MEDIAN                       39.0                          55.0\n",
       "1        Germany                        nan                          35.0\n",
       "2             UK                       45.0                          49.0\n",
       "3         Sweden                       37.0                          53.0\n",
       "4        Denmark                       42.0                          54.0\n",
       "5         France                       38.0                          55.0\n",
       "6   Netherla nns                       40.0                          58.0\n",
       "7          Spain                       29.0                          63.0\n",
       "8          Italy                       22.0                          74.0"
      ]
     },
     "execution_count": 24,
     "metadata": {},
     "output_type": "execute_result"
    }
   ],
   "source": [
    "df4"
   ]
  },
  {
   "cell_type": "markdown",
   "id": "1ba93949-5f01-4847-8b96-f1fa0d889470",
   "metadata": {},
   "source": [
    "So far, no change in performance or accuracy from a larger or ideally sharper edged text. Let's try some other things, starting with a greyscale image since the authors say the model does not use color as input features."
   ]
  },
  {
   "cell_type": "code",
   "execution_count": 25,
   "id": "5ffeb133-6efe-4f76-b9fa-63a60f0594e2",
   "metadata": {},
   "outputs": [
    {
     "data": {
      "image/png": "[encoded data removed]",
      "text/plain": [
       "<PIL.Image.Image image mode=L size=311x478>"
      ]
     },
     "execution_count": 25,
     "metadata": {},
     "output_type": "execute_result"
    }
   ],
   "source": [
    "input_image.convert('L')"
   ]
  },
  {
   "cell_type": "code",
   "execution_count": 26,
   "id": "5e903464-fe52-41a2-9d7a-f95d81cc6f5d",
   "metadata": {},
   "outputs": [
    {
     "data": {
      "text/plain": [
       "Timedelta('0 days 00:01:49.847010')"
      ]
     },
     "execution_count": 26,
     "metadata": {},
     "output_type": "execute_result"
    }
   ],
   "source": [
    "dt, df5 = plot_2_df(input_image.convert('L'))\n",
    "dt"
   ]
  },
  {
   "cell_type": "code",
   "execution_count": 27,
   "id": "f437eb33-e76c-4aff-93f2-4ad4549e3216",
   "metadata": {},
   "outputs": [
    {
     "data": {
      "text/html": [
       "<div>\n",
       "<style scoped>\n",
       "    .dataframe tbody tr th:only-of-type {\n",
       "        vertical-align: middle;\n",
       "    }\n",
       "\n",
       "    .dataframe tbody tr th {\n",
       "        vertical-align: top;\n",
       "    }\n",
       "\n",
       "    .dataframe thead th {\n",
       "        text-align: right;\n",
       "    }\n",
       "</style>\n",
       "<table border=\"1\" class=\"dataframe\">\n",
       "  <thead>\n",
       "    <tr style=\"text-align: right;\">\n",
       "      <th></th>\n",
       "      <th>Entity</th>\n",
       "      <th>Individual's responsibility</th>\n",
       "      <th>Government's responsibility</th>\n",
       "    </tr>\n",
       "  </thead>\n",
       "  <tbody>\n",
       "    <tr>\n",
       "      <th>0</th>\n",
       "      <td>MEDIAN</td>\n",
       "      <td>39.0</td>\n",
       "      <td>55.0</td>\n",
       "    </tr>\n",
       "    <tr>\n",
       "      <th>1</th>\n",
       "      <td>Germany</td>\n",
       "      <td>nan</td>\n",
       "      <td>35.0</td>\n",
       "    </tr>\n",
       "    <tr>\n",
       "      <th>2</th>\n",
       "      <td>UK</td>\n",
       "      <td>45.0</td>\n",
       "      <td>49.0</td>\n",
       "    </tr>\n",
       "    <tr>\n",
       "      <th>3</th>\n",
       "      <td>Sweden</td>\n",
       "      <td>37.0</td>\n",
       "      <td>53.0</td>\n",
       "    </tr>\n",
       "    <tr>\n",
       "      <th>4</th>\n",
       "      <td>Denmark</td>\n",
       "      <td>42.0</td>\n",
       "      <td>54.0</td>\n",
       "    </tr>\n",
       "    <tr>\n",
       "      <th>5</th>\n",
       "      <td>France</td>\n",
       "      <td>38.0</td>\n",
       "      <td>55.0</td>\n",
       "    </tr>\n",
       "    <tr>\n",
       "      <th>6</th>\n",
       "      <td>Netherla nns</td>\n",
       "      <td>40.0</td>\n",
       "      <td>58.0</td>\n",
       "    </tr>\n",
       "    <tr>\n",
       "      <th>7</th>\n",
       "      <td>Spain</td>\n",
       "      <td>29.0</td>\n",
       "      <td>63.0</td>\n",
       "    </tr>\n",
       "    <tr>\n",
       "      <th>8</th>\n",
       "      <td>Italy</td>\n",
       "      <td>22.0</td>\n",
       "      <td>74.0</td>\n",
       "    </tr>\n",
       "  </tbody>\n",
       "</table>\n",
       "</div>"
      ],
      "text/plain": [
       "           Entity Individual's responsibility  Government's responsibility\n",
       "0         MEDIAN                        39.0                          55.0\n",
       "1        Germany                         nan                          35.0\n",
       "2             UK                        45.0                          49.0\n",
       "3         Sweden                        37.0                          53.0\n",
       "4        Denmark                        42.0                          54.0\n",
       "5         France                        38.0                          55.0\n",
       "6   Netherla nns                        40.0                          58.0\n",
       "7          Spain                        29.0                          63.0\n",
       "8          Italy                        22.0                          74.0"
      ]
     },
     "execution_count": 27,
     "metadata": {},
     "output_type": "execute_result"
    }
   ],
   "source": [
    "df5"
   ]
  },
  {
   "cell_type": "markdown",
   "id": "70fe5e04-e3c8-4479-817a-48318ef41b6c",
   "metadata": {},
   "source": [
    "No change in performance or speed of prediction when the input is greyscale. \n",
    "\n",
    "Let's see how changing the horizontal and vertical scaling affects the model output."
   ]
  },
  {
   "cell_type": "code",
   "execution_count": 28,
   "id": "214fbc06-bdbc-4f70-8555-f27ad9dbb5c6",
   "metadata": {},
   "outputs": [
    {
     "data": {
      "text/plain": [
       "(311, 478)"
      ]
     },
     "execution_count": 28,
     "metadata": {},
     "output_type": "execute_result"
    }
   ],
   "source": [
    "input_image.size"
   ]
  },
  {
   "cell_type": "code",
   "execution_count": 29,
   "id": "eaadf461-791e-44e6-a2b9-af8904e57cd6",
   "metadata": {},
   "outputs": [
    {
     "data": {
      "image/png": "[encoded data removed]",
      "text/plain": [
       "<PIL.Image.Image image mode=RGB size=200x400>"
      ]
     },
     "execution_count": 29,
     "metadata": {},
     "output_type": "execute_result"
    }
   ],
   "source": [
    "input_image.resize((200, 400))"
   ]
  },
  {
   "cell_type": "code",
   "execution_count": 30,
   "id": "d98226f3-f61c-412b-8058-c70c068790be",
   "metadata": {},
   "outputs": [
    {
     "data": {
      "text/plain": [
       "Timedelta('0 days 00:01:36.700854')"
      ]
     },
     "execution_count": 30,
     "metadata": {},
     "output_type": "execute_result"
    }
   ],
   "source": [
    "dt, df6 = plot_2_df(input_image.resize((200, 400)))\n",
    "dt"
   ]
  },
  {
   "cell_type": "code",
   "execution_count": 31,
   "id": "5a5d8cbe-0b3e-425e-ab09-273267120d06",
   "metadata": {},
   "outputs": [
    {
     "data": {
      "text/html": [
       "<div>\n",
       "<style scoped>\n",
       "    .dataframe tbody tr th:only-of-type {\n",
       "        vertical-align: middle;\n",
       "    }\n",
       "\n",
       "    .dataframe tbody tr th {\n",
       "        vertical-align: top;\n",
       "    }\n",
       "\n",
       "    .dataframe thead th {\n",
       "        text-align: right;\n",
       "    }\n",
       "</style>\n",
       "<table border=\"1\" class=\"dataframe\">\n",
       "  <thead>\n",
       "    <tr style=\"text-align: right;\">\n",
       "      <th></th>\n",
       "      <th>Entity</th>\n",
       "      <th>Individuals responsibility</th>\n",
       "      <th>Government's responsibility</th>\n",
       "    </tr>\n",
       "  </thead>\n",
       "  <tbody>\n",
       "    <tr>\n",
       "      <th>0</th>\n",
       "      <td>MEDIAN</td>\n",
       "      <td>39.0</td>\n",
       "      <td>55.0</td>\n",
       "    </tr>\n",
       "    <tr>\n",
       "      <th>1</th>\n",
       "      <td>Germany</td>\n",
       "      <td>57.0</td>\n",
       "      <td>35.0</td>\n",
       "    </tr>\n",
       "    <tr>\n",
       "      <th>2</th>\n",
       "      <td>UK</td>\n",
       "      <td>45.0</td>\n",
       "      <td>49.0</td>\n",
       "    </tr>\n",
       "    <tr>\n",
       "      <th>3</th>\n",
       "      <td>Sweden</td>\n",
       "      <td>nan</td>\n",
       "      <td>53.0</td>\n",
       "    </tr>\n",
       "    <tr>\n",
       "      <th>4</th>\n",
       "      <td>Denmark</td>\n",
       "      <td>nan</td>\n",
       "      <td>54.0</td>\n",
       "    </tr>\n",
       "    <tr>\n",
       "      <th>5</th>\n",
       "      <td>France</td>\n",
       "      <td>38.0</td>\n",
       "      <td>55.0</td>\n",
       "    </tr>\n",
       "    <tr>\n",
       "      <th>6</th>\n",
       "      <td>Netherlands</td>\n",
       "      <td>40.0</td>\n",
       "      <td>58.0</td>\n",
       "    </tr>\n",
       "    <tr>\n",
       "      <th>7</th>\n",
       "      <td>Spain</td>\n",
       "      <td>29.0</td>\n",
       "      <td>63.0</td>\n",
       "    </tr>\n",
       "    <tr>\n",
       "      <th>8</th>\n",
       "      <td>Italy</td>\n",
       "      <td>22.0</td>\n",
       "      <td>74.0</td>\n",
       "    </tr>\n",
       "  </tbody>\n",
       "</table>\n",
       "</div>"
      ],
      "text/plain": [
       "          Entity Individuals responsibility  Government's responsibility\n",
       "0        MEDIAN                       39.0                          55.0\n",
       "1       Germany                       57.0                          35.0\n",
       "2            UK                       45.0                          49.0\n",
       "3        Sweden                        nan                          53.0\n",
       "4       Denmark                        nan                          54.0\n",
       "5        France                       38.0                          55.0\n",
       "6   Netherlands                       40.0                          58.0\n",
       "7         Spain                       29.0                          63.0\n",
       "8         Italy                       22.0                          74.0"
      ]
     },
     "execution_count": 31,
     "metadata": {},
     "output_type": "execute_result"
    }
   ],
   "source": [
    "df6"
   ]
  },
  {
   "cell_type": "markdown",
   "id": "42ad0814-3595-4752-9f32-24e1a1e0a9ea",
   "metadata": {},
   "source": [
    "Interestingly with the plot narrower, we get correctly spelled `Netherlands` and the Germany's 57, but now miss the Sweden and Denmark values in the first column.  \n",
    "\n",
    "Let's change the resize ratio in the other direction."
   ]
  },
  {
   "cell_type": "code",
   "execution_count": 32,
   "id": "6c215371-1642-4f8a-91b0-59817d25be1b",
   "metadata": {},
   "outputs": [
    {
     "data": {
      "image/png": "[encoded data removed]",
      "text/plain": [
       "<PIL.Image.Image image mode=RGB size=400x200>"
      ]
     },
     "execution_count": 32,
     "metadata": {},
     "output_type": "execute_result"
    }
   ],
   "source": [
    "input_image.resize((400, 200))"
   ]
  },
  {
   "cell_type": "code",
   "execution_count": 33,
   "id": "7cd99a5d-9864-4098-a342-36d6463e3da8",
   "metadata": {},
   "outputs": [
    {
     "data": {
      "text/plain": [
       "Timedelta('0 days 00:01:53.973501')"
      ]
     },
     "execution_count": 33,
     "metadata": {},
     "output_type": "execute_result"
    }
   ],
   "source": [
    "dt, df7 = plot_2_df(input_image.resize((400, 200)))\n",
    "dt"
   ]
  },
  {
   "cell_type": "code",
   "execution_count": 34,
   "id": "8512d559-2147-4d4d-a8d8-9de93fa6fac5",
   "metadata": {},
   "outputs": [
    {
     "data": {
      "text/html": [
       "<div>\n",
       "<style scoped>\n",
       "    .dataframe tbody tr th:only-of-type {\n",
       "        vertical-align: middle;\n",
       "    }\n",
       "\n",
       "    .dataframe tbody tr th {\n",
       "        vertical-align: top;\n",
       "    }\n",
       "\n",
       "    .dataframe thead th {\n",
       "        text-align: right;\n",
       "    }\n",
       "</style>\n",
       "<table border=\"1\" class=\"dataframe\">\n",
       "  <thead>\n",
       "    <tr style=\"text-align: right;\">\n",
       "      <th></th>\n",
       "      <th>Year</th>\n",
       "      <th>Values</th>\n",
       "    </tr>\n",
       "  </thead>\n",
       "  <tbody>\n",
       "    <tr>\n",
       "      <th>0</th>\n",
       "      <td>2008</td>\n",
       "      <td>55</td>\n",
       "    </tr>\n",
       "    <tr>\n",
       "      <th>1</th>\n",
       "      <td>2010</td>\n",
       "      <td>6</td>\n",
       "    </tr>\n",
       "    <tr>\n",
       "      <th>2</th>\n",
       "      <td>2011</td>\n",
       "      <td>7</td>\n",
       "    </tr>\n",
       "    <tr>\n",
       "      <th>3</th>\n",
       "      <td>2012</td>\n",
       "      <td>8</td>\n",
       "    </tr>\n",
       "    <tr>\n",
       "      <th>4</th>\n",
       "      <td>2013</td>\n",
       "      <td>9</td>\n",
       "    </tr>\n",
       "    <tr>\n",
       "      <th>5</th>\n",
       "      <td>2014</td>\n",
       "      <td>10</td>\n",
       "    </tr>\n",
       "    <tr>\n",
       "      <th>6</th>\n",
       "      <td>2015</td>\n",
       "      <td>7</td>\n",
       "    </tr>\n",
       "    <tr>\n",
       "      <th>7</th>\n",
       "      <td>2016</td>\n",
       "      <td>5</td>\n",
       "    </tr>\n",
       "    <tr>\n",
       "      <th>8</th>\n",
       "      <td>2017</td>\n",
       "      <td>40</td>\n",
       "    </tr>\n",
       "    <tr>\n",
       "      <th>9</th>\n",
       "      <td>2018</td>\n",
       "      <td>54</td>\n",
       "    </tr>\n",
       "    <tr>\n",
       "      <th>10</th>\n",
       "      <td>2019</td>\n",
       "      <td>30</td>\n",
       "    </tr>\n",
       "    <tr>\n",
       "      <th>11</th>\n",
       "      <td>2020</td>\n",
       "      <td>0</td>\n",
       "    </tr>\n",
       "    <tr>\n",
       "      <th>12</th>\n",
       "      <td>2021</td>\n",
       "      <td>0</td>\n",
       "    </tr>\n",
       "    <tr>\n",
       "      <th>13</th>\n",
       "      <td>2020</td>\n",
       "      <td>0</td>\n",
       "    </tr>\n",
       "    <tr>\n",
       "      <th>14</th>\n",
       "      <td>2019</td>\n",
       "      <td>0</td>\n",
       "    </tr>\n",
       "  </tbody>\n",
       "</table>\n",
       "</div>"
      ],
      "text/plain": [
       "    Year  Values\n",
       "0   2008      55\n",
       "1   2010       6\n",
       "2   2011       7\n",
       "3   2012       8\n",
       "4   2013       9\n",
       "5   2014      10\n",
       "6   2015       7\n",
       "7   2016       5\n",
       "8   2017      40\n",
       "9   2018      54\n",
       "10  2019      30\n",
       "11  2020       0\n",
       "12  2021       0\n",
       "13  2020       0\n",
       "14  2019       0"
      ]
     },
     "execution_count": 34,
     "metadata": {},
     "output_type": "execute_result"
    }
   ],
   "source": [
    "df7"
   ]
  },
  {
   "cell_type": "markdown",
   "id": "7be5c71c-b497-4fc9-b948-6304395d62ff",
   "metadata": {},
   "source": [
    "This is an unexpected result. The model seems to like numbers or features more vertically aligned than spread out - which perhaps makes sense since the goal is to output columnar data. Since this model result took so long to return, let's add a timeout. "
   ]
  },
  {
   "cell_type": "code",
   "execution_count": 35,
   "id": "d2bc3c80-c264-4a16-b0e6-79802cf7cf1c",
   "metadata": {},
   "outputs": [],
   "source": [
    "def function_timeout(func, args, timeout):\n",
    "    \"\"\"Executes another function using multiprocessing but \n",
    "    exits if more time than specified has elapsed.\n",
    "\n",
    "    Parameters\n",
    "    ----------\n",
    "    func : function, the function to execute\n",
    "    args : list, the arguments to pass to the function\n",
    "    timeout : int, the maximum time in seconds to allow the \n",
    "        function to execute\n",
    "\n",
    "    Returns\n",
    "    -------\n",
    "    The return value of the input function\n",
    "    \"\"\"\n",
    "\n",
    "    with ThreadPool(processes=1) as pool:\n",
    "        future = pool.apply_async(func, args)\n",
    "        try:\n",
    "            return future.get(timeout)\n",
    "        except multiprocessing.TimeoutError:\n",
    "            return None"
   ]
  },
  {
   "cell_type": "code",
   "execution_count": 36,
   "id": "2aa8f457-a501-42c2-982f-ccba724f57c6",
   "metadata": {},
   "outputs": [],
   "source": [
    "def plot_2_df_timeout(pil_image, timeout=180):\n",
    "    \"\"\"Create a Pandas DataFrame from an input image.\n",
    "\n",
    "    Parameters\n",
    "    ----------\n",
    "    pil_image : PIL.PngImagePlugin.PngImageFile, loaded image\n",
    "        for structured text extraction\n",
    "    timeout : int, the maximum time in seconds to allow the \n",
    "        function to execute. Default is 180 (3 minutes).\n",
    "    \n",
    "    Returns\n",
    "    -------\n",
    "    dt : pandas._libs.tslibs.timedeltas.Timedelta, time elapsed\n",
    "    _df : Pandas DataFrame, extracted data from plot\n",
    "    \"\"\"\n",
    "    result = function_timeout(plot_2_df, [pil_image], timeout)\n",
    "    if result is None:\n",
    "        return pd.Timedelta(f\"{timeout} s\"), None\n",
    "    else:\n",
    "        return result"
   ]
  },
  {
   "cell_type": "code",
   "execution_count": 37,
   "id": "d6d0bbaf-a5ad-4ca8-8a81-8c9f7d3a1536",
   "metadata": {},
   "outputs": [
    {
     "data": {
      "text/plain": [
       "(Timedelta('0 days 00:01:45.118023'), (311, 478))"
      ]
     },
     "execution_count": 37,
     "metadata": {},
     "output_type": "execute_result"
    }
   ],
   "source": [
    "dt, df2x = plot_2_df_timeout(input_image)\n",
    "dt, input_image.size"
   ]
  },
  {
   "cell_type": "code",
   "execution_count": 38,
   "id": "9cc62d66-f62b-42ab-904a-a5021c456ff6",
   "metadata": {},
   "outputs": [
    {
     "data": {
      "text/html": [
       "<div>\n",
       "<style scoped>\n",
       "    .dataframe tbody tr th:only-of-type {\n",
       "        vertical-align: middle;\n",
       "    }\n",
       "\n",
       "    .dataframe tbody tr th {\n",
       "        vertical-align: top;\n",
       "    }\n",
       "\n",
       "    .dataframe thead th {\n",
       "        text-align: right;\n",
       "    }\n",
       "</style>\n",
       "<table border=\"1\" class=\"dataframe\">\n",
       "  <thead>\n",
       "    <tr style=\"text-align: right;\">\n",
       "      <th></th>\n",
       "      <th>Entity</th>\n",
       "      <th>Individuals responsibility</th>\n",
       "      <th>Government's responsibility</th>\n",
       "    </tr>\n",
       "  </thead>\n",
       "  <tbody>\n",
       "    <tr>\n",
       "      <th>0</th>\n",
       "      <td>MEDIAN</td>\n",
       "      <td>39.0</td>\n",
       "      <td>55.0</td>\n",
       "    </tr>\n",
       "    <tr>\n",
       "      <th>1</th>\n",
       "      <td>Germany</td>\n",
       "      <td>nan</td>\n",
       "      <td>35.0</td>\n",
       "    </tr>\n",
       "    <tr>\n",
       "      <th>2</th>\n",
       "      <td>UK</td>\n",
       "      <td>45.0</td>\n",
       "      <td>49.0</td>\n",
       "    </tr>\n",
       "    <tr>\n",
       "      <th>3</th>\n",
       "      <td>Sweden</td>\n",
       "      <td>37.0</td>\n",
       "      <td>53.0</td>\n",
       "    </tr>\n",
       "    <tr>\n",
       "      <th>4</th>\n",
       "      <td>Denmark</td>\n",
       "      <td>42.0</td>\n",
       "      <td>54.0</td>\n",
       "    </tr>\n",
       "    <tr>\n",
       "      <th>5</th>\n",
       "      <td>France</td>\n",
       "      <td>38.0</td>\n",
       "      <td>55.0</td>\n",
       "    </tr>\n",
       "    <tr>\n",
       "      <th>6</th>\n",
       "      <td>Netherla nns</td>\n",
       "      <td>40.0</td>\n",
       "      <td>58.0</td>\n",
       "    </tr>\n",
       "    <tr>\n",
       "      <th>7</th>\n",
       "      <td>Spain</td>\n",
       "      <td>29.0</td>\n",
       "      <td>63.0</td>\n",
       "    </tr>\n",
       "    <tr>\n",
       "      <th>8</th>\n",
       "      <td>Italy</td>\n",
       "      <td>22.0</td>\n",
       "      <td>74.0</td>\n",
       "    </tr>\n",
       "  </tbody>\n",
       "</table>\n",
       "</div>"
      ],
      "text/plain": [
       "           Entity Individuals responsibility  Government's responsibility\n",
       "0         MEDIAN                       39.0                          55.0\n",
       "1        Germany                        nan                          35.0\n",
       "2             UK                       45.0                          49.0\n",
       "3         Sweden                       37.0                          53.0\n",
       "4        Denmark                       42.0                          54.0\n",
       "5         France                       38.0                          55.0\n",
       "6   Netherla nns                       40.0                          58.0\n",
       "7          Spain                       29.0                          63.0\n",
       "8          Italy                       22.0                          74.0"
      ]
     },
     "execution_count": 38,
     "metadata": {},
     "output_type": "execute_result"
    }
   ],
   "source": [
    "df2x"
   ]
  },
  {
   "cell_type": "code",
   "execution_count": 39,
   "id": "82d02657-1507-454c-a23f-1e989df93b30",
   "metadata": {},
   "outputs": [
    {
     "data": {
      "text/plain": [
       "True"
      ]
     },
     "execution_count": 39,
     "metadata": {},
     "output_type": "execute_result"
    }
   ],
   "source": [
    "df2.equals(df2x)"
   ]
  },
  {
   "cell_type": "markdown",
   "id": "f0917b21-492e-4a3d-a880-829dca2c7a9c",
   "metadata": {},
   "source": [
    "Here we've confirmed we get the same result using the threaded timeout version as we got originally. Now we can experiment and not waste to much time.\n",
    "\n",
    "Looking back at our results, the structured output from the narrower input image (`df6`) correctly captured some of the missing data in our original attempt (`df2`). Let's try combining them as a kind of 'average correct'."
   ]
  },
  {
   "cell_type": "code",
   "execution_count": 40,
   "id": "a59350ca-7359-4824-bfa1-83d17381a4e2",
   "metadata": {},
   "outputs": [],
   "source": [
    "def type_selector(a, b):\n",
    "    \"\"\"Select if both values can be represented at numeric\"\"\"\n",
    "    try:\n",
    "        float(a)\n",
    "        float(b)\n",
    "        return 'numeric'\n",
    "    except:\n",
    "        return 'string'"
   ]
  },
  {
   "cell_type": "code",
   "execution_count": 41,
   "id": "fcee2754-f12e-442a-8c07-df1752efc6e9",
   "metadata": {},
   "outputs": [],
   "source": [
    "def not_na_selector(a, b):\n",
    "    \"\"\"Select the not-missing value\"\"\"\n",
    "    a = float(a)\n",
    "    b = float(b)\n",
    "    if pd.isnull(a) & pd.notnull(b):\n",
    "        return b\n",
    "    elif pd.notnull(a) & pd.isnull(b):\n",
    "        return a\n",
    "    elif pd.isnull(a) & pd.isnull(b):\n",
    "        return pd.NA"
   ]
  },
  {
   "cell_type": "code",
   "execution_count": 42,
   "id": "a32293a6-f209-4789-855a-48741cccc9d3",
   "metadata": {},
   "outputs": [],
   "source": [
    "def word_selector(a, b):\n",
    "    i = []\n",
    "    w = Word(a)\n",
    "    i.append(w.spellcheck()[0])\n",
    "    w = Word(b)\n",
    "    i.append(w.spellcheck()[0])\n",
    "    _d = dict(i)\n",
    "    return max(_d, key=_d.get)"
   ]
  },
  {
   "cell_type": "code",
   "execution_count": 43,
   "id": "f5156c0c-f398-4a13-9589-262a55c7be0e",
   "metadata": {},
   "outputs": [
    {
     "name": "stdout",
     "output_type": "stream",
     "text": [
      "Target Type: numeric\n",
      "numeric inputs: a:  nan , b:  57.0 \n",
      "Target Type: numeric\n",
      "numeric inputs: a:  37.0 , b:  nan \n",
      "Target Type: numeric\n",
      "numeric inputs: a:  42.0 , b:  nan \n",
      "Target Type: string\n",
      "string Words:  Netherla nns ,  Netherlands \n"
     ]
    }
   ],
   "source": [
    "_dfa = df2.copy()\n",
    "_dfb = df6.copy()\n",
    "df2_average = df2.copy()\n",
    "\n",
    "df_mask = _dfa == _dfb\n",
    "for ix in range(0, df_mask.shape[0]):\n",
    "    for iy in range(0, df_mask.shape[1]):\n",
    "        if df_mask.iloc[ix, iy] == False:\n",
    "            a = _dfa.iloc[ix, iy]\n",
    "            b = _dfb.iloc[ix, iy]\n",
    "            target_type = type_selector(a, b)\n",
    "            print(f\"Target Type: {target_type}\")\n",
    "            if target_type == 'numeric':            \n",
    "                c = not_na_selector(a, b)\n",
    "                print(f\"numeric inputs: a: {a}, b: {b}\")\n",
    "                df2_average.iloc[ix, iy] = c\n",
    "            elif target_type == 'string':\n",
    "                print(f\"string Words: {a}, {b}\")\n",
    "                df2_average.iloc[ix, iy] = word_selector(a, b)"
   ]
  },
  {
   "cell_type": "code",
   "execution_count": 44,
   "id": "ad24eb34-1192-4c9b-b330-5bd08341c040",
   "metadata": {},
   "outputs": [
    {
     "data": {
      "text/html": [
       "<div>\n",
       "<style scoped>\n",
       "    .dataframe tbody tr th:only-of-type {\n",
       "        vertical-align: middle;\n",
       "    }\n",
       "\n",
       "    .dataframe tbody tr th {\n",
       "        vertical-align: top;\n",
       "    }\n",
       "\n",
       "    .dataframe thead th {\n",
       "        text-align: right;\n",
       "    }\n",
       "</style>\n",
       "<table border=\"1\" class=\"dataframe\">\n",
       "  <thead>\n",
       "    <tr style=\"text-align: right;\">\n",
       "      <th></th>\n",
       "      <th>Entity</th>\n",
       "      <th>Individuals responsibility</th>\n",
       "      <th>Government's responsibility</th>\n",
       "    </tr>\n",
       "  </thead>\n",
       "  <tbody>\n",
       "    <tr>\n",
       "      <th>0</th>\n",
       "      <td>MEDIAN</td>\n",
       "      <td>39.0</td>\n",
       "      <td>55.0</td>\n",
       "    </tr>\n",
       "    <tr>\n",
       "      <th>1</th>\n",
       "      <td>Germany</td>\n",
       "      <td>57.0</td>\n",
       "      <td>35.0</td>\n",
       "    </tr>\n",
       "    <tr>\n",
       "      <th>2</th>\n",
       "      <td>UK</td>\n",
       "      <td>45.0</td>\n",
       "      <td>49.0</td>\n",
       "    </tr>\n",
       "    <tr>\n",
       "      <th>3</th>\n",
       "      <td>Sweden</td>\n",
       "      <td>37.0</td>\n",
       "      <td>53.0</td>\n",
       "    </tr>\n",
       "    <tr>\n",
       "      <th>4</th>\n",
       "      <td>Denmark</td>\n",
       "      <td>42.0</td>\n",
       "      <td>54.0</td>\n",
       "    </tr>\n",
       "    <tr>\n",
       "      <th>5</th>\n",
       "      <td>France</td>\n",
       "      <td>38.0</td>\n",
       "      <td>55.0</td>\n",
       "    </tr>\n",
       "    <tr>\n",
       "      <th>6</th>\n",
       "      <td>Netherla nns</td>\n",
       "      <td>40.0</td>\n",
       "      <td>58.0</td>\n",
       "    </tr>\n",
       "    <tr>\n",
       "      <th>7</th>\n",
       "      <td>Spain</td>\n",
       "      <td>29.0</td>\n",
       "      <td>63.0</td>\n",
       "    </tr>\n",
       "    <tr>\n",
       "      <th>8</th>\n",
       "      <td>Italy</td>\n",
       "      <td>22.0</td>\n",
       "      <td>74.0</td>\n",
       "    </tr>\n",
       "  </tbody>\n",
       "</table>\n",
       "</div>"
      ],
      "text/plain": [
       "           Entity Individuals responsibility  Government's responsibility\n",
       "0         MEDIAN                       39.0                          55.0\n",
       "1        Germany                        57.0                         35.0\n",
       "2             UK                       45.0                          49.0\n",
       "3         Sweden                        37.0                         53.0\n",
       "4        Denmark                        42.0                         54.0\n",
       "5         France                       38.0                          55.0\n",
       "6   Netherla nns                       40.0                          58.0\n",
       "7          Spain                       29.0                          63.0\n",
       "8          Italy                       22.0                          74.0"
      ]
     },
     "execution_count": 44,
     "metadata": {},
     "output_type": "execute_result"
    }
   ],
   "source": [
    "df2_average"
   ]
  },
  {
   "cell_type": "markdown",
   "id": "e4ab6afe-43f2-4518-bf18-2d9514426298",
   "metadata": {},
   "source": [
    "Reviewing these results with the original input image, we have all the values correctly captured.  \n",
    "\n",
    "In summary, we used DePlot twice, once with the original image and once with the image compressed along the horizontal axis, then we replaced missing values where the two results overlapped and chose the strings that were spelled correctly."
   ]
  },
  {
   "cell_type": "markdown",
   "id": "0b9d8f8f-d98f-43d5-9983-4f38acbb4d76",
   "metadata": {},
   "source": [
    "## III. Check Output from Article  \n",
    "In their article, the authors provide three plot images. Let's see how accurate the model is at converting them.  \n",
    "\n",
    "Extracted image example image #1 (saved as `deplot_example_01.png`), from page 2:\n",
    "![](./data/deplot_example_01.png)  "
   ]
  },
  {
   "cell_type": "code",
   "execution_count": 45,
   "id": "101e9a20-0d91-4132-9988-dbe12335986d",
   "metadata": {},
   "outputs": [
    {
     "data": {
      "text/plain": [
       "(Timedelta('0 days 00:00:45.009266'), (723, 507))"
      ]
     },
     "execution_count": 45,
     "metadata": {},
     "output_type": "execute_result"
    }
   ],
   "source": [
    "example_01_image = Image.open(\"./data/deplot_example_01.png\")\n",
    "dt, df_ex1 = plot_2_df_timeout(example_01_image)\n",
    "dt, example_01_image.size"
   ]
  },
  {
   "cell_type": "code",
   "execution_count": 46,
   "id": "2f23b394-8e59-47bf-b0e0-181728369bb4",
   "metadata": {},
   "outputs": [
    {
     "data": {
      "text/html": [
       "<div>\n",
       "<style scoped>\n",
       "    .dataframe tbody tr th:only-of-type {\n",
       "        vertical-align: middle;\n",
       "    }\n",
       "\n",
       "    .dataframe tbody tr th {\n",
       "        vertical-align: top;\n",
       "    }\n",
       "\n",
       "    .dataframe thead th {\n",
       "        text-align: right;\n",
       "    }\n",
       "</style>\n",
       "<table border=\"1\" class=\"dataframe\">\n",
       "  <thead>\n",
       "    <tr style=\"text-align: right;\">\n",
       "      <th></th>\n",
       "      <th>TITLE</th>\n",
       "      <th></th>\n",
       "    </tr>\n",
       "  </thead>\n",
       "  <tbody>\n",
       "    <tr>\n",
       "      <th>models</th>\n",
       "      <td>augmented-set</td>\n",
       "      <td>human-set</td>\n",
       "    </tr>\n",
       "    <tr>\n",
       "      <th>VisionTapas</th>\n",
       "      <td>66</td>\n",
       "      <td>22</td>\n",
       "    </tr>\n",
       "    <tr>\n",
       "      <th>Pix2Struct</th>\n",
       "      <td>82</td>\n",
       "      <td>30</td>\n",
       "    </tr>\n",
       "    <tr>\n",
       "      <th>MatCha</th>\n",
       "      <td>88</td>\n",
       "      <td>37</td>\n",
       "    </tr>\n",
       "    <tr>\n",
       "      <th>DePlot</th>\n",
       "      <td>91</td>\n",
       "      <td>67</td>\n",
       "    </tr>\n",
       "  </tbody>\n",
       "</table>\n",
       "</div>"
      ],
      "text/plain": [
       "                         TITLE             \n",
       " models         augmented-set    human-set \n",
       " VisionTapas               66           22 \n",
       " Pix2Struct                82           30 \n",
       " MatCha                    88           37 \n",
       " DePlot                    91            67"
      ]
     },
     "execution_count": 46,
     "metadata": {},
     "output_type": "execute_result"
    }
   ],
   "source": [
    "df_ex1"
   ]
  },
  {
   "cell_type": "code",
   "execution_count": 47,
   "id": "8c28bb18-6e27-467c-b423-6a95ca1d084f",
   "metadata": {},
   "outputs": [],
   "source": [
    "example_1_str = \"\"\"\n",
    "models |augmented-set|human-set\n",
    "VisionTapas |67.2 |22.2\n",
    "Pix2Struct |82.9 |30.4\n",
    "MatCha |89.0 |38.0\n",
    "DePlot |91.0 |67.6\"\"\"\n",
    "df_ex1_true = pd.read_table(StringIO(example_1_str), sep=\"|\")"
   ]
  },
  {
   "cell_type": "code",
   "execution_count": 48,
   "id": "14b7df4f-f7f1-404d-8610-63ded1989a70",
   "metadata": {},
   "outputs": [
    {
     "data": {
      "text/html": [
       "<div>\n",
       "<style scoped>\n",
       "    .dataframe tbody tr th:only-of-type {\n",
       "        vertical-align: middle;\n",
       "    }\n",
       "\n",
       "    .dataframe tbody tr th {\n",
       "        vertical-align: top;\n",
       "    }\n",
       "\n",
       "    .dataframe thead th {\n",
       "        text-align: right;\n",
       "    }\n",
       "</style>\n",
       "<table border=\"1\" class=\"dataframe\">\n",
       "  <thead>\n",
       "    <tr style=\"text-align: right;\">\n",
       "      <th></th>\n",
       "      <th>models</th>\n",
       "      <th>augmented-set</th>\n",
       "      <th>human-set</th>\n",
       "    </tr>\n",
       "  </thead>\n",
       "  <tbody>\n",
       "    <tr>\n",
       "      <th>0</th>\n",
       "      <td>VisionTapas</td>\n",
       "      <td>67.2</td>\n",
       "      <td>22.2</td>\n",
       "    </tr>\n",
       "    <tr>\n",
       "      <th>1</th>\n",
       "      <td>Pix2Struct</td>\n",
       "      <td>82.9</td>\n",
       "      <td>30.4</td>\n",
       "    </tr>\n",
       "    <tr>\n",
       "      <th>2</th>\n",
       "      <td>MatCha</td>\n",
       "      <td>89.0</td>\n",
       "      <td>38.0</td>\n",
       "    </tr>\n",
       "    <tr>\n",
       "      <th>3</th>\n",
       "      <td>DePlot</td>\n",
       "      <td>91.0</td>\n",
       "      <td>67.6</td>\n",
       "    </tr>\n",
       "  </tbody>\n",
       "</table>\n",
       "</div>"
      ],
      "text/plain": [
       "        models   augmented-set  human-set\n",
       "0  VisionTapas            67.2       22.2\n",
       "1   Pix2Struct            82.9       30.4\n",
       "2       MatCha            89.0       38.0\n",
       "3       DePlot            91.0       67.6"
      ]
     },
     "execution_count": 48,
     "metadata": {},
     "output_type": "execute_result"
    }
   ],
   "source": [
    "df_ex1_true"
   ]
  },
  {
   "cell_type": "markdown",
   "id": "6ee2924b-ee35-4fc2-b17f-80068f414b15",
   "metadata": {},
   "source": [
    "Close enough, although the header row is a bit off. Remember though, the author's goal was input to an LLM so this is likely fine for that use case. Note though that the floating point accuracy of the plot has been lost, which will be reflected in any LLM application as well.  \n",
    "\n",
    "Source for the second example:  \n",
    "![](./data/deplot_example_02.png)  "
   ]
  },
  {
   "cell_type": "code",
   "execution_count": 49,
   "id": "f58b015a-b88d-4841-9885-6569c9d5e343",
   "metadata": {},
   "outputs": [
    {
     "data": {
      "text/plain": [
       "(Timedelta('0 days 00:00:37.859238'), (1033, 778))"
      ]
     },
     "execution_count": 49,
     "metadata": {},
     "output_type": "execute_result"
    }
   ],
   "source": [
    "example_02_image = Image.open(\"./data/deplot_example_02.png\")\n",
    "dt, df_ex2 = plot_2_df_timeout(example_02_image)\n",
    "dt, example_02_image.size"
   ]
  },
  {
   "cell_type": "code",
   "execution_count": 50,
   "id": "35f4db69-032a-449e-9638-511c06f4d780",
   "metadata": {},
   "outputs": [
    {
     "data": {
      "text/html": [
       "<div>\n",
       "<style scoped>\n",
       "    .dataframe tbody tr th:only-of-type {\n",
       "        vertical-align: middle;\n",
       "    }\n",
       "\n",
       "    .dataframe tbody tr th {\n",
       "        vertical-align: top;\n",
       "    }\n",
       "\n",
       "    .dataframe thead th {\n",
       "        text-align: right;\n",
       "    }\n",
       "</style>\n",
       "<table border=\"1\" class=\"dataframe\">\n",
       "  <thead>\n",
       "    <tr style=\"text-align: right;\">\n",
       "      <th></th>\n",
       "      <th>Country</th>\n",
       "      <th>Share of marine territorial waters that are protected, 2016</th>\n",
       "    </tr>\n",
       "  </thead>\n",
       "  <tbody>\n",
       "    <tr>\n",
       "      <th>0</th>\n",
       "      <td>Greenland</td>\n",
       "      <td>4.52</td>\n",
       "    </tr>\n",
       "    <tr>\n",
       "      <th>1</th>\n",
       "      <td>Mauritania</td>\n",
       "      <td>4.15</td>\n",
       "    </tr>\n",
       "    <tr>\n",
       "      <th>2</th>\n",
       "      <td>Indonesia</td>\n",
       "      <td>2.88</td>\n",
       "    </tr>\n",
       "    <tr>\n",
       "      <th>3</th>\n",
       "      <td>Ireland</td>\n",
       "      <td>2.33</td>\n",
       "    </tr>\n",
       "  </tbody>\n",
       "</table>\n",
       "</div>"
      ],
      "text/plain": [
       "        Country  Share of marine territorial waters that are protected, 2016\n",
       "0    Greenland                                                4.52          \n",
       "1   Mauritania                                                4.15          \n",
       "2    Indonesia                                                2.88          \n",
       "3      Ireland                                                2.33          "
      ]
     },
     "execution_count": 50,
     "metadata": {},
     "output_type": "execute_result"
    }
   ],
   "source": [
    "df_ex2"
   ]
  },
  {
   "cell_type": "code",
   "execution_count": 51,
   "id": "f0d166c5-d91f-4681-96f8-de1acfc811e5",
   "metadata": {},
   "outputs": [],
   "source": [
    "example_2_str = \"\"\"\n",
    "country | protected-waters-percent\n",
    "Greenland | 4.52\n",
    "Mauritania | 4.15\n",
    "Indonesia | 2.88\n",
    "Ireland | 2.33\"\"\"\n",
    "df_ex2_true = pd.read_table(StringIO(example_2_str), sep=\"|\")"
   ]
  },
  {
   "cell_type": "code",
   "execution_count": 52,
   "id": "160c6028-cef8-4b47-b80c-8f7fddd3f199",
   "metadata": {},
   "outputs": [
    {
     "data": {
      "text/html": [
       "<div>\n",
       "<style scoped>\n",
       "    .dataframe tbody tr th:only-of-type {\n",
       "        vertical-align: middle;\n",
       "    }\n",
       "\n",
       "    .dataframe tbody tr th {\n",
       "        vertical-align: top;\n",
       "    }\n",
       "\n",
       "    .dataframe thead th {\n",
       "        text-align: right;\n",
       "    }\n",
       "</style>\n",
       "<table border=\"1\" class=\"dataframe\">\n",
       "  <thead>\n",
       "    <tr style=\"text-align: right;\">\n",
       "      <th></th>\n",
       "      <th>country</th>\n",
       "      <th>protected-waters-percent</th>\n",
       "    </tr>\n",
       "  </thead>\n",
       "  <tbody>\n",
       "    <tr>\n",
       "      <th>0</th>\n",
       "      <td>Greenland</td>\n",
       "      <td>4.52</td>\n",
       "    </tr>\n",
       "    <tr>\n",
       "      <th>1</th>\n",
       "      <td>Mauritania</td>\n",
       "      <td>4.15</td>\n",
       "    </tr>\n",
       "    <tr>\n",
       "      <th>2</th>\n",
       "      <td>Indonesia</td>\n",
       "      <td>2.88</td>\n",
       "    </tr>\n",
       "    <tr>\n",
       "      <th>3</th>\n",
       "      <td>Ireland</td>\n",
       "      <td>2.33</td>\n",
       "    </tr>\n",
       "  </tbody>\n",
       "</table>\n",
       "</div>"
      ],
      "text/plain": [
       "      country    protected-waters-percent\n",
       "0   Greenland                        4.52\n",
       "1  Mauritania                        4.15\n",
       "2   Indonesia                        2.88\n",
       "3     Ireland                        2.33"
      ]
     },
     "execution_count": 52,
     "metadata": {},
     "output_type": "execute_result"
    }
   ],
   "source": [
    "df_ex2_true"
   ]
  },
  {
   "cell_type": "markdown",
   "id": "06a9a977-2cfe-4153-9b17-b0f75128c6fc",
   "metadata": {},
   "source": [
    "This example is completely correct. The only difference are the column labels.  \n",
    "\n",
    "The third example:  \n",
    "![](./data/deplot_example_03.png)  "
   ]
  },
  {
   "cell_type": "code",
   "execution_count": 53,
   "id": "87a9f6c0-27af-436e-a4ac-4bf254dbef69",
   "metadata": {},
   "outputs": [
    {
     "data": {
      "text/plain": [
       "(Timedelta('0 days 00:01:26.759193'), (785, 811))"
      ]
     },
     "execution_count": 53,
     "metadata": {},
     "output_type": "execute_result"
    }
   ],
   "source": [
    "example_03_image = Image.open(\"./data/deplot_example_03.png\")\n",
    "dt, df_ex3 = plot_2_df_timeout(example_03_image)\n",
    "dt, example_03_image.size"
   ]
  },
  {
   "cell_type": "code",
   "execution_count": 54,
   "id": "2a4a2b18-e08e-452e-bc5f-fb7cd33d79e9",
   "metadata": {},
   "outputs": [],
   "source": [
    "example_3_str = \"\"\"\n",
    "Entity|Very concerned|Somewhat concerned|Not concerned\n",
    "Children being exposed to harmful content| 79 | 14 | 6\n",
    "Identity theft| 66 | 17 | 16\n",
    "Exposure to false or incorrect information| 64 | 25 | 14\n",
    "Mobile phone addiction| 62 | 17 | 18\n",
    "Harassment or bullying| 59 | 21 | 16\n",
    "Losing the ability to communicate face-to-face| 48 | 26 | 22\"\"\"\n",
    "df_ex3_true = pd.read_table(StringIO(example_3_str), sep=\"|\")"
   ]
  },
  {
   "cell_type": "raw",
   "id": "4a7c3745-1d46-4135-8553-9d2174f8ade8",
   "metadata": {},
   "source": [
    "df_ex3_true.columns = df_ex3_true.columns.str.strip()"
   ]
  },
  {
   "cell_type": "code",
   "execution_count": 55,
   "id": "89d669c8-7373-41a1-9512-8d13c9578f72",
   "metadata": {},
   "outputs": [],
   "source": [
    "df_ex3_true['Entity'] = df_ex3_true['Entity'].str.strip()\n",
    "df_ex3_true.sort_values(by='Entity', inplace=True)\n",
    "df_ex3_true.reset_index(inplace=True, drop=True)"
   ]
  },
  {
   "cell_type": "code",
   "execution_count": 56,
   "id": "70379a1e-9e4e-4f60-800f-955fe8204783",
   "metadata": {},
   "outputs": [],
   "source": [
    "df_ex3['Entity'] = df_ex3['Entity'].str.strip()\n",
    "df_ex3.sort_values(by='Entity', inplace=True)\n",
    "df_ex3.reset_index(inplace=True, drop=True)"
   ]
  },
  {
   "cell_type": "code",
   "execution_count": 57,
   "id": "664bf7ce-6388-4671-812f-0d81c7f1551e",
   "metadata": {},
   "outputs": [
    {
     "data": {
      "text/plain": [
       "True"
      ]
     },
     "execution_count": 57,
     "metadata": {},
     "output_type": "execute_result"
    }
   ],
   "source": [
    "df_ex3_true.equals(df_ex3)"
   ]
  },
  {
   "cell_type": "code",
   "execution_count": 58,
   "id": "6699d494-00d9-4fa3-a45c-cc54d7b90467",
   "metadata": {},
   "outputs": [
    {
     "data": {
      "text/html": [
       "<div>\n",
       "<style scoped>\n",
       "    .dataframe tbody tr th:only-of-type {\n",
       "        vertical-align: middle;\n",
       "    }\n",
       "\n",
       "    .dataframe tbody tr th {\n",
       "        vertical-align: top;\n",
       "    }\n",
       "\n",
       "    .dataframe thead th {\n",
       "        text-align: right;\n",
       "    }\n",
       "</style>\n",
       "<table border=\"1\" class=\"dataframe\">\n",
       "  <thead>\n",
       "    <tr style=\"text-align: right;\">\n",
       "      <th></th>\n",
       "      <th>Entity</th>\n",
       "      <th>Very concerned</th>\n",
       "      <th>Somewhat concerned</th>\n",
       "      <th>Not concerned</th>\n",
       "    </tr>\n",
       "  </thead>\n",
       "  <tbody>\n",
       "    <tr>\n",
       "      <th>0</th>\n",
       "      <td>Children being exposed to harmful content</td>\n",
       "      <td>79</td>\n",
       "      <td>14</td>\n",
       "      <td>6</td>\n",
       "    </tr>\n",
       "    <tr>\n",
       "      <th>1</th>\n",
       "      <td>Exposure to false or incorrect information</td>\n",
       "      <td>64</td>\n",
       "      <td>25</td>\n",
       "      <td>14</td>\n",
       "    </tr>\n",
       "    <tr>\n",
       "      <th>2</th>\n",
       "      <td>Harassment or bullying</td>\n",
       "      <td>59</td>\n",
       "      <td>21</td>\n",
       "      <td>16</td>\n",
       "    </tr>\n",
       "    <tr>\n",
       "      <th>3</th>\n",
       "      <td>Identity theft</td>\n",
       "      <td>66</td>\n",
       "      <td>17</td>\n",
       "      <td>16</td>\n",
       "    </tr>\n",
       "    <tr>\n",
       "      <th>4</th>\n",
       "      <td>Losing the ability to communicate face-to-face</td>\n",
       "      <td>48</td>\n",
       "      <td>26</td>\n",
       "      <td>22</td>\n",
       "    </tr>\n",
       "    <tr>\n",
       "      <th>5</th>\n",
       "      <td>Mobile phone addiction</td>\n",
       "      <td>62</td>\n",
       "      <td>17</td>\n",
       "      <td>18</td>\n",
       "    </tr>\n",
       "  </tbody>\n",
       "</table>\n",
       "</div>"
      ],
      "text/plain": [
       "                                           Entity  Very concerned  \\\n",
       "0       Children being exposed to harmful content              79   \n",
       "1      Exposure to false or incorrect information              64   \n",
       "2                          Harassment or bullying              59   \n",
       "3                                  Identity theft              66   \n",
       "4  Losing the ability to communicate face-to-face              48   \n",
       "5                          Mobile phone addiction              62   \n",
       "\n",
       "   Somewhat concerned  Not concerned  \n",
       "0                  14              6  \n",
       "1                  25             14  \n",
       "2                  21             16  \n",
       "3                  17             16  \n",
       "4                  26             22  \n",
       "5                  17             18  "
      ]
     },
     "execution_count": 58,
     "metadata": {},
     "output_type": "execute_result"
    }
   ],
   "source": [
    "df_ex3"
   ]
  },
  {
   "cell_type": "markdown",
   "id": "efc1983d-039a-424b-a98a-41d344169124",
   "metadata": {},
   "source": [
    "This result is correct too. One thing that the model seems to do though is return String values with whitespace padding on both sides. This might be an artifact of the structured data format parsing to Pandas. A string strip is sufficient to clean them up.  \n",
    "\n",
    "## IV. Other Plot Inputs  \n",
    "Data Visualization can take a lot of forms. \n",
    "\n",
    "Let's try a plot that likely will not translate to structured data. Charles Minard's map of Napolean's Russian campaign of 1812 was described by Edward Tufte as what \"may well be the best statistical graphic ever drawn\". An overview of Minard's work is on Wikipedia:  \n",
    "\n",
    "https://en.wikipedia.org/wiki/Charles_Joseph_Minard\n",
    "\n",
    "Edward Tufte has written extensively and is well worth reading:  \n",
    "https://www.edwardtufte.com/tufte/  \n",
    "\n",
    "![](./data/Charles_Minard_1869_Napolean_1812.png)  "
   ]
  },
  {
   "cell_type": "code",
   "execution_count": 59,
   "id": "b8b03114-6eb9-4f75-b405-efec226e2387",
   "metadata": {},
   "outputs": [
    {
     "data": {
      "text/plain": [
       "(Timedelta('0 days 00:03:00'), (2003, 955))"
      ]
     },
     "execution_count": 59,
     "metadata": {},
     "output_type": "execute_result"
    }
   ],
   "source": [
    "minard_image_01 = Image.open(\"./data/Charles_Minard_1869_Napolean_1812.png\")\n",
    "dt, df_minard_01 = plot_2_df_timeout(minard_image_01)\n",
    "dt, minard_image_01.size"
   ]
  },
  {
   "cell_type": "markdown",
   "id": "c351c753-9b98-4ecf-bb85-2c5aba6190fd",
   "metadata": {},
   "source": [
    "That didn't end in 3 minutes, let's give the model 20 minutes. That should be more than enough time to produce something. Also since we're experimenting let's just look at the structured string output. We'll break the first function into two for more flexibility."
   ]
  },
  {
   "cell_type": "code",
   "execution_count": 60,
   "id": "f6018905-3ea0-43aa-85e5-ea9717d2d41d",
   "metadata": {},
   "outputs": [],
   "source": [
    "def plot_2_structured(pil_image):\n",
    "    \"\"\"Create structured data from an input image.\n",
    "\n",
    "    Parameters\n",
    "    ----------\n",
    "    pil_image : PIL.PngImagePlugin.PngImageFile, loaded image\n",
    "        for structured text extraction\n",
    "\n",
    "    Returns\n",
    "    -------\n",
    "    proto_table : str, structured DePlot output with some cleaning\n",
    "    \"\"\"\n",
    "    t0 = pd.Timestamp('now')\n",
    "    deplot_prompt = \"Generate underlying data table of the figure below\"\n",
    "    inputs = processor(images=pil_image, \n",
    "                       text=deplot_prompt, \n",
    "                       return_tensors=\"pt\")\n",
    "    predictions = model.generate(**inputs, max_new_tokens=512)\n",
    "    output = processor.decode(predictions[0], skip_special_tokens=True)\n",
    "    proto_table = output.replace('<0x0A>', '\\n')\n",
    "    proto_table = re.sub(r'<.*?>', '', proto_table)\n",
    "    t1 = pd.Timestamp('now')\n",
    "    dt = t1-t0\n",
    "    return dt, proto_table"
   ]
  },
  {
   "cell_type": "code",
   "execution_count": 61,
   "id": "dd65142b-d74b-4647-b4a0-07958ba48d4d",
   "metadata": {},
   "outputs": [],
   "source": [
    "def structured_2_df(_proto_table):\n",
    "    \"\"\"Create a Pandas DataFrame from a DePlot structured \n",
    "    data output.\n",
    "\n",
    "    Parameters\n",
    "    ----------\n",
    "    _proto_table : str, structured data output from DePlot\n",
    "\n",
    "    Returns\n",
    "    -------\n",
    "    Pandas DataFrame, extracted data from plot\n",
    "    \"\"\"\n",
    "    _df = pd.read_table(StringIO(_proto_table), sep=\"|\")\n",
    "    _df.columns = _df.columns.str.strip()\n",
    "    return _df"
   ]
  },
  {
   "cell_type": "code",
   "execution_count": 62,
   "id": "2de6224d-d413-46ec-bb60-b797d3a7f5a7",
   "metadata": {},
   "outputs": [],
   "source": [
    "def plot_2_df(pil_image):\n",
    "    \"\"\"Create a Pandas DataFrame from an input image.\n",
    "\n",
    "    Parameters\n",
    "    ----------\n",
    "    pil_image : PIL.PngImagePlugin.PngImageFile, loaded image\n",
    "        for structured text extraction\n",
    "\n",
    "    Returns\n",
    "    -------\n",
    "    dt : pandas._libs.tslibs.timedeltas.Timedelta, time elapsed\n",
    "    _df : Pandas DataFrame, extracted data from plot\n",
    "    \"\"\"\n",
    "    t0 = pd.Timestamp('now')\n",
    "    _, proto_table = plot_2_structured(pil_image)\n",
    "    _df = structured_2_df(proto_table)\n",
    "    t1 = pd.Timestamp('now')\n",
    "    dt = t1-t0\n",
    "    return dt, _df"
   ]
  },
  {
   "cell_type": "code",
   "execution_count": 63,
   "id": "c016264e-7dbf-49d1-aa72-1c0a0dbeb014",
   "metadata": {},
   "outputs": [],
   "source": [
    "def plot_2_structured_timeout(pil_image, timeout=180):\n",
    "    \"\"\"Create a Pandas DataFrame from an input image.\n",
    "\n",
    "    Parameters\n",
    "    ----------\n",
    "    pil_image : PIL.PngImagePlugin.PngImageFile, loaded image\n",
    "        for structured text extraction\n",
    "    timeout : int, the maximum time in seconds to allow the \n",
    "        function to execute. Default is 180 (3 minutes).\n",
    "    \n",
    "    Returns\n",
    "    -------\n",
    "    dt : pandas._libs.tslibs.timedeltas.Timedelta, time elapsed\n",
    "    _df : Pandas DataFrame, extracted data from plot\n",
    "    \"\"\"\n",
    "    result = function_timeout(plot_2_structured, [pil_image], timeout)\n",
    "    if result is None:\n",
    "        return pd.Timedelta(f\"{timeout} s\"), None\n",
    "    else:\n",
    "        return result"
   ]
  },
  {
   "cell_type": "code",
   "execution_count": 64,
   "id": "c356e8b8-d0b6-452c-a0cf-d431ef64e22b",
   "metadata": {},
   "outputs": [
    {
     "data": {
      "text/plain": [
       "(Timedelta('0 days 00:17:52.237264'), (2003, 955))"
      ]
     },
     "execution_count": 64,
     "metadata": {},
     "output_type": "execute_result"
    }
   ],
   "source": [
    "# takes roughly 11 minutes\n",
    "minard_image_01 = Image.open(\"./data/Charles_Minard_1869_Napolean_1812.png\")\n",
    "dt, txt_minard_01 = plot_2_structured_timeout(minard_image_01, timeout=1200)\n",
    "dt, minard_image_01.size"
   ]
  },
  {
   "cell_type": "code",
   "execution_count": 65,
   "id": "70ab2450-018f-417d-ba62-ec0ee31abca6",
   "metadata": {},
   "outputs": [
    {
     "name": "stdout",
     "output_type": "stream",
     "text": [
      "TITLE |  \n",
      "  | Kw\n",
      "Rk. | M\n",
      "G | GA\n",
      "Yds \n",
      " 1. | 16.5 | 12.2 | 5.5 \n",
      " 2. | 15.2 | 11.0 | 3.5 \n",
      " 3. | 14.5 | 10.5 | 6.5 \n",
      " 4. | 12.6 | 11.4 | 6.5 \n",
      " 5. | 12.2 | 11.6 | 6.5 \n",
      " 6. | 12.2 | 11.0 | 7.5 \n",
      " 7. | 12.2 | 11.0 | 7.8 \n",
      " 8. | 12.2 | 10.8 | 8.3 \n",
      " 9. | 12.2 | 10.4 | 8.0 \n",
      " 10. | 12.2 | 10.0 | 8.5 \n",
      " 11. | 12.2 | 9.4 | 8.0 \n",
      " 12. | 12.2 | 9.0 | 8.5 \n",
      " 13. | 12.2 | 8.8 | 8.0 \n",
      " 14. | 12.2 | 8.0 | 7.6 \n",
      " 15. | 12.2 | 8.5 | 7.8 \n",
      " 16. | 12.2 | 8.0 | 7.5 \n",
      " 17. | 12.2 | 8.0 | 7.5 \n",
      " 18. | 12.2 | 8.5 | 8.0 \n",
      " 19. | 12.2 | 8.0 | 7.5 \n",
      " 18. | 12.2 | 8.0 | 7.5 \n",
      " 17. | 12.2 | 8.0 | 7.5 \n",
      " 18. | 12.2 | 8.0 | 7.5 \n",
      " 1\n"
     ]
    }
   ],
   "source": [
    "print(txt_minard_01)"
   ]
  },
  {
   "cell_type": "markdown",
   "id": "3c02e4e1-08db-472a-99ca-90445650dfb6",
   "metadata": {},
   "source": [
    "The output is not at all what the original plot was representing, but we expected this. The ideal output might describe the army strength (size in people) as it relates to the distance traveled:  \n",
    "```\n",
    "distance | size\n",
    "0 | 422,000\n",
    "50 | 400,000\n",
    "100 | 375,000\n",
    "150 | 350,000\n",
    "200 | 325,000\n",
    "```"
   ]
  },
  {
   "cell_type": "markdown",
   "id": "5a900e4e-de83-404f-a865-2e679eadd799",
   "metadata": {},
   "source": [
    "Let's try a well made modern graphic from the New York Times. This was captured from the article `‘Barbenheimer’ Weekend Was a Real Team Effort`, By Jason Karaian and Karl Russell and published July 24, 2023. Accessed online at: https://www.nytimes.com/2023/07/24/business/barbie-oppenheimer-weekend-box-office.html  \n",
    "\n",
    "![](./data/nytime_2023_07_24_box_office.png)  "
   ]
  },
  {
   "cell_type": "code",
   "execution_count": 66,
   "id": "81a5c287-1f3d-4db7-b21f-42a3ab48347d",
   "metadata": {},
   "outputs": [
    {
     "data": {
      "text/plain": [
       "(Timedelta('0 days 00:02:32.317687'), (774, 645))"
      ]
     },
     "execution_count": 66,
     "metadata": {},
     "output_type": "execute_result"
    }
   ],
   "source": [
    "karaian_russel_image_01 = Image.open(\"./data/nytime_2023_07_24_box_office.png\")\n",
    "dt, txt_karaian_russel_01 = plot_2_structured_timeout(karaian_russel_image_01)\n",
    "dt, karaian_russel_image_01.size"
   ]
  },
  {
   "cell_type": "code",
   "execution_count": 67,
   "id": "5b37d541-c33b-4766-8ac0-023100fe2df3",
   "metadata": {},
   "outputs": [
    {
     "name": "stdout",
     "output_type": "stream",
     "text": [
      "TITLE | Each top movie's share of weekend box Office Grosses\n",
      "Year | Biggest Domestic Weekend Box Office Grosses\n",
      "2010 | Biggest Domestic Weekend Box Office Grosses\n",
      "2011 | Biggest Domestic Weekend Box Office Grosses\n",
      "2012 \n",
      " July 24, 2023 | 2 | 1 \n",
      " By Jason Karaian and Karl Russell | 0 | 1 \n",
      " Source: Box Office Mojo | 0 | 1 \n",
      " April 26–28\n",
      "2019 | 37 | 83 \n",
      " April 27–29\n",
      "2018 | 253 | 32 \n",
      " Dec. 18–20\n",
      "2015 | 313 | 31 \n",
      " July 21–23\n",
      "2023 | 232 | 22\n"
     ]
    }
   ],
   "source": [
    "print(txt_karaian_russel_01)"
   ]
  },
  {
   "cell_type": "markdown",
   "id": "b1e91308-431b-41d3-add1-a04792682cef",
   "metadata": {},
   "source": [
    "This took about 2.5 minutes and came out looking well formatted but somewhat nonsensical. Extracting the most salient part and doing some manual reformatting:  \n",
    "```\n",
    " April 26–28 2019 | 37 | 83 \n",
    " April 27–29 2018 | 253 | 32 \n",
    " Dec. 18–20 2015 | 313 | 31 \n",
    " July 21–23 2023 | 232 | 22\n",
    "```\n",
    "We can see the date ranges are accurately captured but the dollar values and percentages are not accurate. Let's give the model less to work with and crop the image.\n",
    "\n",
    "All surrounding data cropped:  \n",
    "![](./data/nytime_2023_07_24_box_office_cropped.jpg)  "
   ]
  },
  {
   "cell_type": "code",
   "execution_count": 68,
   "id": "76c8b74e-6242-4ff7-91ad-29818db27c4d",
   "metadata": {},
   "outputs": [
    {
     "data": {
      "text/plain": [
       "(Timedelta('0 days 00:01:02.548510'), (750, 368))"
      ]
     },
     "execution_count": 68,
     "metadata": {},
     "output_type": "execute_result"
    }
   ],
   "source": [
    "karaian_russel_image_02 = Image.open(\"./data/nytime_2023_07_24_box_office_cropped.jpg\")\n",
    "dt, txt_karaian_russel_02 = plot_2_structured_timeout(karaian_russel_image_02)\n",
    "dt, karaian_russel_image_02.size"
   ]
  },
  {
   "cell_type": "code",
   "execution_count": 69,
   "id": "5acbb535-2f23-4e79-9ef4-acc5c4a5d8bc",
   "metadata": {},
   "outputs": [
    {
     "name": "stdout",
     "output_type": "stream",
     "text": [
      "TITLE |  \n",
      "  | Charities \n",
      " April 26–28\n",
      "2019 | 402\n",
      "million \n",
      " April 27–29\n",
      "2018 | 325.5 \n",
      " December 18–20\n",
      "2015 | 324.5 \n",
      " July 21–23\n",
      "2023 | 352.7\n"
     ]
    }
   ],
   "source": [
    "print(txt_karaian_russel_02)"
   ]
  },
  {
   "cell_type": "markdown",
   "id": "9c3c8a75-fe5f-4cc6-9267-b9c0a0f10d00",
   "metadata": {},
   "source": [
    "This is an interesting observation since OCR has been very accurate for a long time. Let's see what Tesseract, an open source OCR application, can do with the cropped image."
   ]
  },
  {
   "cell_type": "code",
   "execution_count": 70,
   "id": "a57eb4f5-6504-49ef-aa89-d39a7d3e8be6",
   "metadata": {},
   "outputs": [
    {
     "name": "stdout",
     "output_type": "stream",
     "text": [
      "July 21-23\n",
      "2023\n",
      "\n",
      "Dec. 18-20\n",
      "2015\n",
      "\n",
      "April 27-29\n",
      "2018\n",
      "\n",
      "April 26-28\n",
      "2019\n",
      "\n",
      "$311\n",
      "million\n",
      "\n",
      "$313\n",
      "million\n",
      "\n",
      "$314\n",
      "million\n",
      "\n",
      "$402\n",
      "million\n",
      "\f",
      "\n"
     ]
    }
   ],
   "source": [
    "fp_karaian_russel_cropped = 'data/nytime_2023_07_24_box_office_cropped.jpg'\n",
    "img_karaian_russel_03 = np.array(Image.open(fp_karaian_russel_cropped))\n",
    "txt_karaian_russel_03 = pytesseract.image_to_string(img_karaian_russel_03)\n",
    "print(txt_karaian_russel_03)"
   ]
  },
  {
   "cell_type": "markdown",
   "id": "685b24a6-b84e-437a-b3db-a826f4a38e4e",
   "metadata": {},
   "source": [
    "That's closer to what we're looking for. The dates and dollar values are correct. Tesseract supports much more than this simple example. It has a long development history and is currently developed by Google. Read more here:  \n",
    "https://github.com/tesseract-ocr/tesseract  "
   ]
  },
  {
   "cell_type": "markdown",
   "id": "4f6aba91-c369-4e94-b0f1-c6326ae4a17d",
   "metadata": {},
   "source": [
    "## V. Generated Plot Data  \n",
    "Let's make some plots with data we know is structured. That way any errors in DePlot output are an artifact of the model performance."
   ]
  },
  {
   "cell_type": "code",
   "execution_count": 71,
   "id": "6a06c425-f888-4b04-88f6-7977d645cab7",
   "metadata": {},
   "outputs": [
    {
     "data": {
      "text/html": [
       "<div>\n",
       "<style scoped>\n",
       "    .dataframe tbody tr th:only-of-type {\n",
       "        vertical-align: middle;\n",
       "    }\n",
       "\n",
       "    .dataframe tbody tr th {\n",
       "        vertical-align: top;\n",
       "    }\n",
       "\n",
       "    .dataframe thead th {\n",
       "        text-align: right;\n",
       "    }\n",
       "</style>\n",
       "<table border=\"1\" class=\"dataframe\">\n",
       "  <thead>\n",
       "    <tr style=\"text-align: right;\">\n",
       "      <th></th>\n",
       "      <th>a</th>\n",
       "      <th>b</th>\n",
       "    </tr>\n",
       "  </thead>\n",
       "  <tbody>\n",
       "    <tr>\n",
       "      <th>this</th>\n",
       "      <td>1</td>\n",
       "      <td>4</td>\n",
       "    </tr>\n",
       "    <tr>\n",
       "      <th>that</th>\n",
       "      <td>2</td>\n",
       "      <td>5</td>\n",
       "    </tr>\n",
       "    <tr>\n",
       "      <th>other</th>\n",
       "      <td>3</td>\n",
       "      <td>6</td>\n",
       "    </tr>\n",
       "  </tbody>\n",
       "</table>\n",
       "</div>"
      ],
      "text/plain": [
       "       a  b\n",
       "this   1  4\n",
       "that   2  5\n",
       "other  3  6"
      ]
     },
     "execution_count": 71,
     "metadata": {},
     "output_type": "execute_result"
    }
   ],
   "source": [
    "dfx = pd.DataFrame({'a':[1,2,3],\n",
    "                    'b':[4,5,6]},\n",
    "                   index=['this', 'that', 'other'])\n",
    "dfx"
   ]
  },
  {
   "cell_type": "code",
   "execution_count": 72,
   "id": "8ab27756-e846-44b3-8e8b-8c9a4a6781a6",
   "metadata": {},
   "outputs": [
    {
     "data": {
      "image/png": "[encoded data removed]",
      "text/plain": [
       "<Figure size 640x480 with 1 Axes>"
      ]
     },
     "metadata": {},
     "output_type": "display_data"
    }
   ],
   "source": [
    "ax = dfx.plot.bar()\n",
    "for container in ax.containers:\n",
    "    ax.bar_label(container, padding=5)\n",
    "fig = ax.get_figure()\n",
    "fig.savefig('data/_temp.png')"
   ]
  },
  {
   "cell_type": "code",
   "execution_count": 73,
   "id": "ee3884d2-b785-40ad-a2b3-0f3d730d8113",
   "metadata": {},
   "outputs": [
    {
     "data": {
      "text/plain": [
       "(Timedelta('0 days 00:00:26.217748'), (640, 480))"
      ]
     },
     "execution_count": 73,
     "metadata": {},
     "output_type": "execute_result"
    }
   ],
   "source": [
    "gen_image_01 = Image.open(\"data/_temp.png\")\n",
    "dt, txt_gen_image_01 = plot_2_structured_timeout(gen_image_01)\n",
    "dt, gen_image_01.size"
   ]
  },
  {
   "cell_type": "code",
   "execution_count": 74,
   "id": "26d0e807-ca4b-4517-852d-f16b596ebcd0",
   "metadata": {},
   "outputs": [
    {
     "name": "stdout",
     "output_type": "stream",
     "text": [
      "TITLE |  \n",
      "  | a | b \n",
      " this | 1 | 4 \n",
      " that | 2 | 5 \n",
      " other | 3 | 6\n"
     ]
    }
   ],
   "source": [
    "print(txt_gen_image_01)"
   ]
  },
  {
   "cell_type": "markdown",
   "id": "a9589725-7fb7-42ab-b2ce-7b64705d91d8",
   "metadata": {},
   "source": [
    "Pretty good, let's compare it to tesseract."
   ]
  },
  {
   "cell_type": "code",
   "execution_count": 75,
   "id": "c0f15a40-59fd-4ab1-beaf-ccec4140f6c9",
   "metadata": {},
   "outputs": [
    {
     "name": "stdout",
     "output_type": "stream",
     "text": [
      " \n",
      "\n",
      " \n",
      "\n",
      " \n",
      "\n",
      " \n",
      "\n",
      " \n",
      "\n",
      " \n",
      "\n",
      "0\n",
      "\n",
      "4eun0\n",
      "\f",
      "\n"
     ]
    }
   ],
   "source": [
    "tesseract_array = np.array(Image.open('./data/_temp.png'))\n",
    "txt_tesseract_temp = pytesseract.image_to_string(tesseract_array)\n",
    "print(txt_tesseract_temp)"
   ]
  },
  {
   "cell_type": "markdown",
   "id": "f56f330d-a5ed-43e7-b971-0be915f9ac1e",
   "metadata": {},
   "source": [
    "Pretty much nothing out from tesseract OCR. Let's try some more configurations of this plot."
   ]
  },
  {
   "cell_type": "code",
   "execution_count": 76,
   "id": "70e7e30c-8cd8-4860-8ab7-fd412baf7790",
   "metadata": {},
   "outputs": [
    {
     "name": "stdout",
     "output_type": "stream",
     "text": [
      "TITLE |  \n",
      "  | a | b \n",
      " this | 1 | 4 \n",
      " that | 2 | 5 \n",
      " other | 3 | 6\n"
     ]
    },
    {
     "data": {
      "image/png": "[encoded data removed]",
      "text/plain": [
       "<Figure size 640x480 with 1 Axes>"
      ]
     },
     "metadata": {},
     "output_type": "display_data"
    }
   ],
   "source": [
    "ax = dfx.plot.bar()\n",
    "#for container in ax.containers:\n",
    "#    ax.bar_label(container, padding=5)\n",
    "fig = ax.get_figure()\n",
    "fig.savefig('data/_temp.png')\n",
    "gen_image_02 = Image.open(\"data/_temp.png\")\n",
    "dt, txt_gen_image_02 = plot_2_structured_timeout(gen_image_02)\n",
    "dt, gen_image_02.size\n",
    "print(txt_gen_image_02)"
   ]
  },
  {
   "cell_type": "code",
   "execution_count": 77,
   "id": "5a229ca2-03d8-48eb-9a5d-d5feeba47ce6",
   "metadata": {},
   "outputs": [
    {
     "data": {
      "text/html": [
       "<div>\n",
       "<style scoped>\n",
       "    .dataframe tbody tr th:only-of-type {\n",
       "        vertical-align: middle;\n",
       "    }\n",
       "\n",
       "    .dataframe tbody tr th {\n",
       "        vertical-align: top;\n",
       "    }\n",
       "\n",
       "    .dataframe thead th {\n",
       "        text-align: right;\n",
       "    }\n",
       "</style>\n",
       "<table border=\"1\" class=\"dataframe\">\n",
       "  <thead>\n",
       "    <tr style=\"text-align: right;\">\n",
       "      <th></th>\n",
       "      <th>TITLE</th>\n",
       "      <th></th>\n",
       "    </tr>\n",
       "  </thead>\n",
       "  <tbody>\n",
       "    <tr>\n",
       "      <th></th>\n",
       "      <td>a</td>\n",
       "      <td>b</td>\n",
       "    </tr>\n",
       "    <tr>\n",
       "      <th>this</th>\n",
       "      <td>1</td>\n",
       "      <td>4</td>\n",
       "    </tr>\n",
       "    <tr>\n",
       "      <th>that</th>\n",
       "      <td>2</td>\n",
       "      <td>5</td>\n",
       "    </tr>\n",
       "    <tr>\n",
       "      <th>other</th>\n",
       "      <td>3</td>\n",
       "      <td>6</td>\n",
       "    </tr>\n",
       "  </tbody>\n",
       "</table>\n",
       "</div>"
      ],
      "text/plain": [
       "        TITLE     \n",
       "           a    b \n",
       " this      1    4 \n",
       " that      2    5 \n",
       " other     3     6"
      ]
     },
     "execution_count": 77,
     "metadata": {},
     "output_type": "execute_result"
    }
   ],
   "source": [
    "structured_2_df(txt_gen_image_02)"
   ]
  },
  {
   "cell_type": "markdown",
   "id": "8f571811-0ae4-46de-b7ea-ff0ecfa94d09",
   "metadata": {},
   "source": [
    "Now this is getting interesting. This time, the model was able to convert the plot to data without data labels. That is, it read the axis and inferred values spatially between the graphical entities of the plot. It continues to be inconsistent in header and table formatting which would be a challenge to generalize handling in a data pipeline. "
   ]
  },
  {
   "cell_type": "code",
   "execution_count": 78,
   "id": "1163b9dd-2401-459d-8d75-de0af821970d",
   "metadata": {},
   "outputs": [
    {
     "name": "stdout",
     "output_type": "stream",
     "text": [
      "TITLE |  \n",
      " a | nan \n",
      " this | nan \n",
      " that | nan\n"
     ]
    },
    {
     "data": {
      "image/png": "[encoded data removed]",
      "text/plain": [
       "<Figure size 640x480 with 1 Axes>"
      ]
     },
     "metadata": {},
     "output_type": "display_data"
    }
   ],
   "source": [
    "ax = dfx.plot.pie(y='a', legend=False)\n",
    "fig = ax.get_figure()\n",
    "fig.savefig('data/_temp.png')\n",
    "gen_image_03 = Image.open(\"data/_temp.png\")\n",
    "dt, txt_gen_image_03 = plot_2_structured_timeout(gen_image_03)\n",
    "dt, gen_image_03.size\n",
    "print(txt_gen_image_03)"
   ]
  },
  {
   "cell_type": "markdown",
   "id": "b5244794-cb43-4dd6-a84a-c6118f866f7f",
   "metadata": {},
   "source": [
    "Pie charts don't work. Which is fine, we shouldn't be [using them anyway](https://scc.ms.unimelb.edu.au/resources/data-visualisation-and-exploration/no_pie-charts)."
   ]
  },
  {
   "cell_type": "code",
   "execution_count": 79,
   "id": "6e811763-cc17-4a37-a60a-3dec8849da21",
   "metadata": {},
   "outputs": [
    {
     "name": "stdout",
     "output_type": "stream",
     "text": [
      "TITLE |  \n",
      " other |  \n",
      " a | 6 \n",
      " b | 0 \n",
      " c | 1\n"
     ]
    },
    {
     "data": {
      "image/png": "[encoded data removed]",
      "text/plain": [
       "<Figure size 640x480 with 2 Axes>"
      ]
     },
     "metadata": {},
     "output_type": "display_data"
    }
   ],
   "source": [
    "ax = sns.heatmap(dfx)\n",
    "fig = ax.get_figure()\n",
    "fig.savefig('data/_temp.png')\n",
    "gen_image_04 = Image.open(\"data/_temp.png\")\n",
    "dt, txt_gen_image_04 = plot_2_structured_timeout(gen_image_04)\n",
    "dt, gen_image_04.size\n",
    "print(txt_gen_image_04)"
   ]
  },
  {
   "cell_type": "markdown",
   "id": "b66254d8-cf6b-41dd-8363-309196267ecb",
   "metadata": {},
   "source": [
    "So this is interesting, not that the model halicinated the value 0, it appears nowhere on the chart. The only similar character is the 'o' in other, which is already returned as a column title."
   ]
  },
  {
   "cell_type": "code",
   "execution_count": 80,
   "id": "c6fec875-f055-4dde-9463-8a5725e430bd",
   "metadata": {},
   "outputs": [
    {
     "name": "stdout",
     "output_type": "stream",
     "text": [
      "TITLE |  \n",
      "  | 1 \n",
      " a | 3 \n",
      " b | 6 \n",
      " c | 2\n"
     ]
    },
    {
     "data": {
      "image/png": "[encoded data removed]",
      "text/plain": [
       "<Figure size 640x480 with 2 Axes>"
      ]
     },
     "metadata": {},
     "output_type": "display_data"
    }
   ],
   "source": [
    "ax = sns.heatmap(dfx, annot=True)\n",
    "fig = ax.get_figure()\n",
    "fig.savefig('data/_temp.png')\n",
    "gen_image_05 = Image.open(\"data/_temp.png\")\n",
    "dt, txt_gen_image_05 = plot_2_structured_timeout(gen_image_05)\n",
    "dt, gen_image_05.size\n",
    "print(txt_gen_image_05)"
   ]
  },
  {
   "cell_type": "markdown",
   "id": "bb221a34-1ba9-4d14-acef-5bec962f8f1a",
   "metadata": {},
   "source": [
    "With annotations, some of the data is represented. Perhaps the model selected data along a path in the bottom row (other). Nothing concrete, this kind of data output would be hard to programatically extract from new plots."
   ]
  },
  {
   "cell_type": "code",
   "execution_count": 81,
   "id": "079b4050-3380-4b3d-9a97-82d04d056122",
   "metadata": {},
   "outputs": [
    {
     "name": "stdout",
     "output_type": "stream",
     "text": [
      "TITLE |  \n",
      " other | 3 \n",
      " a | 3 \n",
      " b | 6\n"
     ]
    },
    {
     "data": {
      "image/png": "[encoded data removed]",
      "text/plain": [
       "<Figure size 640x480 with 1 Axes>"
      ]
     },
     "metadata": {},
     "output_type": "display_data"
    }
   ],
   "source": [
    "ax = sns.heatmap(dfx, annot=True, cbar=False)\n",
    "fig = ax.get_figure()\n",
    "fig.savefig('data/_temp.png')\n",
    "gen_image_06 = Image.open(\"data/_temp.png\")\n",
    "dt, txt_gen_image_06 = plot_2_structured_timeout(gen_image_06)\n",
    "dt, gen_image_06.size\n",
    "print(txt_gen_image_06)"
   ]
  },
  {
   "cell_type": "markdown",
   "id": "c7ffc851-d7f1-4f79-81df-3c12a4015088",
   "metadata": {},
   "source": [
    "This is still not capturing the data, which is disappointing since this is about as rectilinearly structured a data plot as we could get.  Let's try reconfiguring the heatmap a bit, perhaps something will come out more clearly."
   ]
  },
  {
   "cell_type": "code",
   "execution_count": 82,
   "id": "2f9f606d-2fc4-4d09-86e3-0389f1c874a5",
   "metadata": {},
   "outputs": [
    {
     "name": "stdout",
     "output_type": "stream",
     "text": [
      "TITLE |  \n",
      "  | 4 \n",
      " 1 | 1 \n",
      " 2 | 2 \n",
      " 3 | 3 \n",
      " 4 | 5\n"
     ]
    },
    {
     "data": {
      "image/png": "[encoded data removed]",
      "text/plain": [
       "<Figure size 640x480 with 1 Axes>"
      ]
     },
     "metadata": {},
     "output_type": "display_data"
    }
   ],
   "source": [
    "ax = sns.heatmap(dfx, annot=True, \n",
    "                 xticklabels=False, yticklabels=False, \n",
    "                 cbar=False)\n",
    "fig = ax.get_figure()\n",
    "fig.savefig('data/_temp.png')\n",
    "gen_image_07 = Image.open(\"data/_temp.png\")\n",
    "dt, txt_gen_image_07 = plot_2_structured_timeout(gen_image_07)\n",
    "dt, gen_image_07.size\n",
    "print(txt_gen_image_07)"
   ]
  },
  {
   "cell_type": "markdown",
   "id": "0643bff0-6801-4a16-b044-cf41e993828c",
   "metadata": {},
   "source": [
    "No luck, also where the sequence `1,2,3,5` came from is puzzling. Let's double check with OCR."
   ]
  },
  {
   "cell_type": "code",
   "execution_count": 83,
   "id": "a4f8ddb8-ccdc-486e-92d4-6f661bf7e793",
   "metadata": {},
   "outputs": [
    {
     "data": {
      "text/plain": [
       "' \\n\\x0c'"
      ]
     },
     "execution_count": 83,
     "metadata": {},
     "output_type": "execute_result"
    }
   ],
   "source": [
    "img2 = np.array(Image.open(\"data/_temp.png\"))\n",
    "text = pytesseract.image_to_string(img2)\n",
    "text"
   ]
  },
  {
   "cell_type": "markdown",
   "id": "12e9e06f-e3f0-4d0d-b627-b507efa1a6b1",
   "metadata": {},
   "source": [
    "Even worse. Let's resize the heatmap."
   ]
  },
  {
   "cell_type": "code",
   "execution_count": 84,
   "id": "086af544-a19a-4e3c-a44f-5313de7a8e2f",
   "metadata": {},
   "outputs": [],
   "source": [
    "def figure_2_txt(fig):\n",
    "    fig.savefig('data/_temp.png')\n",
    "    _gen_image = Image.open(\"data/_temp.png\")\n",
    "    dt, _txt_gen_image = plot_2_structured_timeout(_gen_image)\n",
    "    print(f\"Time elapsed: {dt}, size of image: {_gen_image.size}\")\n",
    "    return _txt_gen_image"
   ]
  },
  {
   "cell_type": "code",
   "execution_count": 85,
   "id": "f1544398-72e4-44e7-8ac5-2e2f950f8063",
   "metadata": {},
   "outputs": [
    {
     "name": "stdout",
     "output_type": "stream",
     "text": [
      "Time elapsed: 0 days 00:00:27.818837, size of image: (300, 300)\n",
      "TITLE |  \n",
      "  | 4 \n",
      " 1 | 1 \n",
      " 2 | 2 \n",
      " 3 | 5 \n",
      " 4 | 4\n"
     ]
    },
    {
     "data": {
      "image/png": "[encoded data removed]",
      "text/plain": [
       "<Figure size 300x300 with 1 Axes>"
      ]
     },
     "metadata": {},
     "output_type": "display_data"
    }
   ],
   "source": [
    "fig, ax = plt.subplots(figsize=(3,3))\n",
    "sns.heatmap(dfx, annot=True, \n",
    "            xticklabels=False, yticklabels=False, \n",
    "            cbar=False, ax=ax)\n",
    "txt = figure_2_txt(ax.get_figure())\n",
    "print(txt)"
   ]
  },
  {
   "cell_type": "code",
   "execution_count": 86,
   "id": "f759c572-29a3-4e2d-a4cc-db8ff3bbb6dd",
   "metadata": {},
   "outputs": [
    {
     "name": "stdout",
     "output_type": "stream",
     "text": [
      "Time elapsed: 0 days 00:00:22.067365, size of image: (100, 100)\n",
      "TITLE |  \n",
      "  | 3 | 5 \n",
      " | 2 | 5 \n",
      " | 1 | 4\n"
     ]
    },
    {
     "data": {
      "image/png": "[encoded data removed]",
      "text/plain": [
       "<Figure size 100x100 with 1 Axes>"
      ]
     },
     "metadata": {},
     "output_type": "display_data"
    }
   ],
   "source": [
    "fig, ax = plt.subplots(figsize=(1,1))\n",
    "sns.heatmap(dfx, annot=True, \n",
    "            xticklabels=False, yticklabels=False, \n",
    "            cbar=False, ax=ax)\n",
    "txt = figure_2_txt(ax.get_figure())\n",
    "print(txt)"
   ]
  },
  {
   "cell_type": "markdown",
   "id": "1d097036-8b4b-4d7c-adb1-a60105efb7f2",
   "metadata": {},
   "source": [
    "This result is mostly correct. And it follows a pattern that other results have taken which is the rows are returned in reverse sorted order from their top to bottom location in the plot."
   ]
  },
  {
   "cell_type": "code",
   "execution_count": 87,
   "id": "4d084d49-eacb-422b-9b01-214698c23dcc",
   "metadata": {},
   "outputs": [
    {
     "name": "stdout",
     "output_type": "stream",
     "text": [
      "Time elapsed: 0 days 00:00:51.863724, size of image: (100, 100)\n",
      "TITLE |  \n",
      "  | AFC Central\n",
      "T | AFC Central\n",
      "W | AFC Central\n",
      "L | AFC Central\n",
      "PA \n",
      " (1) | 3 | 2 | 5 | 6 \n",
      " (4) | 2 | 1 | 5 | 5 \n",
      " (5) | 0 | 0 | 1 | 4\n"
     ]
    },
    {
     "data": {
      "image/png": "[encoded data removed]",
      "text/plain": [
       "<Figure size 100x100 with 1 Axes>"
      ]
     },
     "metadata": {},
     "output_type": "display_data"
    }
   ],
   "source": [
    "fig, ax = plt.subplots(figsize=(1,1))\n",
    "sns.heatmap(dfx, annot=True, \n",
    "            xticklabels=True, yticklabels=True, \n",
    "            cbar=False, ax=ax)\n",
    "txt = figure_2_txt(ax.get_figure())\n",
    "print(txt)"
   ]
  },
  {
   "cell_type": "markdown",
   "id": "426e9b82-5cd5-4a91-afa4-baebfe3305db",
   "metadata": {},
   "source": [
    "This result is worse than useless; it's actively inserting uncertainty into the analysis by returning content that is not present in the input image (all of the `AFC Central` labels, plus the shape mismatch of the input and output)."
   ]
  },
  {
   "cell_type": "markdown",
   "id": "3f76f204-2df8-4295-9ec5-0d15317a90d3",
   "metadata": {},
   "source": [
    "## VI. Conclusions  \n",
    "In limited situations, DePlot is able to generate structured data from charts and plots. As trained by the authors, the model is not sufficiently accurate to be used in a production data pipeline. \n",
    "\n",
    "The authors of DePlot evaluated their model performance using two published datasets: `ChartQA` and `PlotQA` at 1/3 each and the last 1/3 their own annotated data. Clearly further fine-tuning would be required on a specific domain before DePlot is ready for an application specific deployment. Indeed, the authors state:\n",
    "\n",
    "```\n",
    "To obtain effective plot-to-text conversion, large amounts of diverse and in-domain plot-table parallel data are usually needed. It is unknown to which extent DEPLOT can work for out-of-domain (OOD) plotto text conversion. We investigated this in section §6.2 but in the future a wider range of web charts can be used to gain a deeper understanding into DEPLOT’s robustness for OOD plots\n",
    "```\n",
    "\n",
    "A limitation of this Notebook study is that we have potentially evaluated the model out-of-domain. The authors state `DEPLOT is conceptually simple yet can robustly work for all types of charts (line, dot, bar, and pie charts)` - which does not include stacked bar charts, heatmaps or anything like Minard's map.\n",
    "\n",
    "Next steps could be finding an application specific domain and training DePlot on just that application and evaluating performance. "
   ]
  }
 ],
 "metadata": {
  "environment": {
   "kernel": "pem1",
   "name": "tf2-gpu.2-11.m109",
   "type": "gcloud",
   "uri": "gcr.io/deeplearning-platform-release/tf2-gpu.2-11:m109"
  },
  "kernelspec": {
   "display_name": "pem1",
   "language": "python",
   "name": "pem1"
  },
  "language_info": {
   "codemirror_mode": {
    "name": "ipython",
    "version": 3
   },
   "file_extension": ".py",
   "mimetype": "text/x-python",
   "name": "python",
   "nbconvert_exporter": "python",
   "pygments_lexer": "ipython3",
   "version": "3.10.12"
  }
 },
 "nbformat": 4,
 "nbformat_minor": 5
}
