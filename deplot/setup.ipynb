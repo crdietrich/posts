{
 "cells": [
  {
   "cell_type": "markdown",
   "id": "5590b1a7-0ef3-4549-83dc-1016208b9071",
   "metadata": {},
   "source": [
    "### 1. Install `nb_conda_kernels`  \n",
    "To be able to select different conda environments from Jupyterlab, we need to install a few python packages\n",
    "#### a. base conda environment\n",
    "`nb_conda_kernels` needs to be installed:  \n",
    "\n",
    "`$ conda install nb_conda_kernels`\n",
    "#### b. other conda environments  \n",
    "`ipykernel` needs to be installed:  \n",
    "`$ conda install ipykernels`"
   ]
  },
  {
   "cell_type": "markdown",
   "id": "914977da-0e20-4792-b225-5d7f20d0ddd8",
   "metadata": {},
   "source": [
    "### 2. Clone Google Research Repo  \n",
    "\n",
    "The needed repository is NOT a Python Package, and thus conda and pip cannot add it to environment import path. Thus, this manual notebook.\n",
    "\n",
    "`git clone https://github.com/google-research/google-research.git`"
   ]
  },
  {
   "cell_type": "markdown",
   "id": "b6e33e15-08e7-4cf1-94f7-e882ee0818d9",
   "metadata": {},
   "source": [
    "### 3. Clone Google Pix2Struct  \n",
    "Install the Pix2Struct library by Google hosted on Github.\n",
    "`git clone https://github.com/google-research/pix2struct.git`"
   ]
  },
  {
   "cell_type": "markdown",
   "id": "3f3cb32c-7ff8-49e5-a26c-8b82417ea4c1",
   "metadata": {},
   "source": [
    "### 3. Create Conda Environment  \n",
    "In the `base` conda environment and the root directory of the VM:  \n",
    "`conda env create -f environment.yml`"
   ]
  },
  {
   "cell_type": "code",
   "execution_count": 1,
   "id": "597cd70c-e4f7-44cf-adad-13de74e2c4f5",
   "metadata": {},
   "outputs": [
    {
     "name": "stdout",
     "output_type": "stream",
     "text": [
      "# conda environments:\n",
      "#\n",
      "base                  *  /opt/conda\n",
      "pem1                     /opt/conda/envs/pem1\n",
      "\n"
     ]
    }
   ],
   "source": [
    "!conda env list"
   ]
  },
  {
   "cell_type": "markdown",
   "id": "1d9e490f-4c1c-4a7b-aab5-680e98d8fb3b",
   "metadata": {},
   "source": [
    "## Jupyterlab Conda Kernel  \n",
    "This has been and on-off problem with multiple environments in Jupyterlab. The most straightforeward was is to install the Python package `nb_conda_kernels` in the `base` environment that serves the Jupyter Server. If this fails, the following command in the environment you wish to run (in this case `pem1`) should make it selectable in JupyterLab:\n",
    "\n",
    "```\n",
    "$ conda activate pem\n",
    "$ ipython kernel install --user --name=pem1\n",
    "$ conda deactivate\n",
    "```"
   ]
  },
  {
   "cell_type": "markdown",
   "id": "9a35400f-3ccc-4d1f-b83e-f2a098d91f3a",
   "metadata": {},
   "source": [
    "### 4. Set Credentials  \n",
    "* Set jupyter shared variable `project_id` and `location_id`\n",
    "\n",
    "### 5. Install OCR program  \n",
    "This is for comparisons in the notebook not DePlot. In a terminal run:  \n",
    "`$ sudo apt install tesseract-ocr`\n",
    "\n",
    "### 6. Run Project in `DePlot_evaluation.ipynb`\n",
    "* Open Notebook and select `pem1` as the interpreter"
   ]
  },
  {
   "cell_type": "code",
   "execution_count": 2,
   "id": "0351901d-e9a8-41d3-99b2-77c7318a5c24",
   "metadata": {},
   "outputs": [],
   "source": [
    "project_id = 'gcp_project_id'\n",
    "location_id = 'us-west1'"
   ]
  },
  {
   "cell_type": "code",
   "execution_count": 3,
   "id": "b1dc6bbc-3504-472d-ab04-fb441b32e9b2",
   "metadata": {},
   "outputs": [
    {
     "name": "stdout",
     "output_type": "stream",
     "text": [
      "Stored 'project_id' (str)\n",
      "Stored 'location_id' (str)\n"
     ]
    }
   ],
   "source": [
    "%store project_id\n",
    "%store location_id"
   ]
  }
 ],
 "metadata": {
  "environment": {
   "kernel": "python3",
   "name": "tf2-gpu.2-11.m109",
   "type": "gcloud",
   "uri": "gcr.io/deeplearning-platform-release/tf2-gpu.2-11:m109"
  },
  "kernelspec": {
   "display_name": "Python 3 (ipykernel)",
   "language": "python",
   "name": "python3"
  },
  "language_info": {
   "codemirror_mode": {
    "name": "ipython",
    "version": 3
   },
   "file_extension": ".py",
   "mimetype": "text/x-python",
   "name": "python",
   "nbconvert_exporter": "python",
   "pygments_lexer": "ipython3",
   "version": "3.10.11"
  }
 },
 "nbformat": 4,
 "nbformat_minor": 5
}
